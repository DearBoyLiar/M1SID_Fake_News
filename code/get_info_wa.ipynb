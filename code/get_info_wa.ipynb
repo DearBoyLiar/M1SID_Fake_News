{
 "cells": [
  {
   "cell_type": "code",
   "execution_count": 36,
   "metadata": {},
   "outputs": [],
   "source": [
    "import pandas as pd\n",
    "import glob\n",
    "from sklearn.feature_extraction.text import TfidfVectorizer\n",
    "import matplotlib.pyplot as plt\n",
    "import lightgbm as lgbm\n",
    "import numpy as np\n",
    "from sklearn.tree import DecisionTreeClassifier\n",
    "from sklearn.linear_model import LogisticRegression\n",
    "from sklearn.ensemble import GradientBoostingClassifier\n",
    "from sklearn.model_selection import cross_val_score\n",
    "import datetime\n",
    "import warnings\n",
    "warnings.simplefilter(\"ignore\")"
   ]
  },
  {
   "cell_type": "code",
   "execution_count": 52,
   "metadata": {},
   "outputs": [],
   "source": [
    "def get_articles(name):\n",
    "    contents = []\n",
    "    list_of_files = glob.glob('../data/news/'+name+'/*.txt')        \n",
    "    for i,file_name in enumerate(list_of_files):\n",
    "        id_article = file_name[:-4].split('/')[4]\n",
    "        contents.append(open(file_name,'r').read())\n",
    "    return contents\n",
    "\n",
    "def get_Y_train():\n",
    "    true_val = []\n",
    "    indexes = []\n",
    "    articles = open('../data/labels_training.txt','r').readlines()[1:]\n",
    "    for i in articles:\n",
    "        true_val.append(int(i.split(',')[1][:-1]))\n",
    "        indexes.append(i.split(',')[0])\n",
    "    return pd.DataFrame(true_val,columns=['fake_news'],index=indexes)"
   ]
  },
  {
   "cell_type": "markdown",
   "metadata": {},
   "source": [
    "### Get articles for training and testing"
   ]
  },
  {
   "cell_type": "code",
   "execution_count": 53,
   "metadata": {},
   "outputs": [],
   "source": [
    "train = get_articles('training')\n",
    "test = get_articles('test')"
   ]
  },
  {
   "cell_type": "code",
   "execution_count": 54,
   "metadata": {},
   "outputs": [],
   "source": [
    "def sentense2cleanTokens(sent):\n",
    "    sent = sent.lower()\n",
    "    sent = \"\".join([x if x.isalpha() else \" \" for x in sent])\n",
    "    sent = \" \".join(sent.split())\n",
    "    return sent\n",
    "\n",
    "X_train = []\n",
    "for i in train:\n",
    "    X_train.append(sentense2cleanTokens(i))\n",
    "    \n",
    "X_test = []\n",
    "for j in test:\n",
    "    X_test.append(sentense2cleanTokens(j))\n",
    "    \n",
    "Y_train = get_Y_train().sort_index()"
   ]
  },
  {
   "cell_type": "code",
   "execution_count": 57,
   "metadata": {},
   "outputs": [],
   "source": [
    "tfidf_v = TfidfVectorizer(max_df=0.95, min_df=5, max_features=1000, stop_words='english')\n",
    "train_tf_idf = tfidf_v.fit_transform(X_train)\n",
    "test_tf_idf = tfidf_v.fit_transform(X_test)"
   ]
  },
  {
   "cell_type": "code",
   "execution_count": 58,
   "metadata": {},
   "outputs": [
    {
     "name": "stdout",
     "output_type": "stream",
     "text": [
      "0.4935087719298245\n"
     ]
    }
   ],
   "source": [
    "model = GradientBoostingClassifier()\n",
    "pred = np.mean(cross_val_score(model, train_tf_idf, Y_train, cv=10))\n",
    "print(pred)"
   ]
  },
  {
   "cell_type": "markdown",
   "metadata": {},
   "source": [
    "### It's prediction time !"
   ]
  },
  {
   "cell_type": "code",
   "execution_count": 45,
   "metadata": {},
   "outputs": [],
   "source": [
    "clf = GradientBoostingClassifier()\n",
    "clf.fit(train_tf_idf,Y_train)\n",
    "Y_test = clf.predict(test_tf_idf)"
   ]
  },
  {
   "cell_type": "markdown",
   "metadata": {},
   "source": [
    "### Create a submission file"
   ]
  },
  {
   "cell_type": "code",
   "execution_count": null,
   "metadata": {},
   "outputs": [],
   "source": [
    "now = str(datetime.datetime.now())[:19]\n",
    "with open('../data/submissions/bogota_mates_submission_'+now+'.txt', 'w') as f:\n",
    "    f.write('doc,class\\n')\n",
    "    for value,doc in zip(Y_test,X_test.index):\n",
    "        f.write(str(doc)+ ',' + str(value)+\"\\n\")"
   ]
  },
  {
   "cell_type": "code",
   "execution_count": null,
   "metadata": {},
   "outputs": [],
   "source": []
  },
  {
   "cell_type": "code",
   "execution_count": null,
   "metadata": {},
   "outputs": [],
   "source": []
  }
 ],
 "metadata": {
  "kernelspec": {
   "display_name": "Python 3",
   "language": "python",
   "name": "python3"
  },
  "language_info": {
   "codemirror_mode": {
    "name": "ipython",
    "version": 3
   },
   "file_extension": ".py",
   "mimetype": "text/x-python",
   "name": "python",
   "nbconvert_exporter": "python",
   "pygments_lexer": "ipython3",
   "version": "3.7.1"
  }
 },
 "nbformat": 4,
 "nbformat_minor": 2
}
