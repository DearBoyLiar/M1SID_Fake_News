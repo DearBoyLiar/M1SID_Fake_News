{
 "cells": [
  {
   "cell_type": "code",
   "execution_count": 1,
   "metadata": {},
   "outputs": [],
   "source": [
    "import pandas as pd\n",
    "import glob\n",
    "from sklearn.feature_extraction.text import TfidfVectorizer\n",
    "import matplotlib.pyplot as plt\n",
    "import lightgbm as lgbm\n",
    "import numpy as np\n",
    "from sklearn.model_selection import KFold\n",
    "import os\n",
    "from sklearn.feature_extraction.text import CountVectorizer \n",
    "import sklearn.decomposition as skld\n",
    "from tqdm import tqdm_notebook as tqdm"
   ]
  },
  {
   "cell_type": "code",
   "execution_count": 7,
   "metadata": {},
   "outputs": [
    {
     "ename": "IndexError",
     "evalue": "list index out of range",
     "output_type": "error",
     "traceback": [
      "\u001b[0;31m---------------------------------------------------------------------------\u001b[0m",
      "\u001b[0;31mIndexError\u001b[0m                                Traceback (most recent call last)",
      "\u001b[0;32m<ipython-input-7-d6416a0afeb9>\u001b[0m in \u001b[0;36m<module>\u001b[0;34m\u001b[0m\n\u001b[1;32m     10\u001b[0m     \u001b[0;32mreturn\u001b[0m \u001b[0mid_articles\u001b[0m\u001b[0;34m,\u001b[0m \u001b[0marticles_contents\u001b[0m\u001b[0;34m\u001b[0m\u001b[0;34m\u001b[0m\u001b[0m\n\u001b[1;32m     11\u001b[0m \u001b[0;34m\u001b[0m\u001b[0m\n\u001b[0;32m---> 12\u001b[0;31m \u001b[0mX_train_ids\u001b[0m\u001b[0;34m,\u001b[0m \u001b[0mX_train_contents\u001b[0m \u001b[0;34m=\u001b[0m \u001b[0mcreate_lists\u001b[0m\u001b[0;34m(\u001b[0m\u001b[0;34m'training'\u001b[0m\u001b[0;34m)\u001b[0m\u001b[0;34m\u001b[0m\u001b[0;34m\u001b[0m\u001b[0m\n\u001b[0m\u001b[1;32m     13\u001b[0m \u001b[0mX_test_ids\u001b[0m\u001b[0;34m,\u001b[0m \u001b[0mX_test_contents\u001b[0m \u001b[0;34m=\u001b[0m \u001b[0mcreate_lists\u001b[0m\u001b[0;34m(\u001b[0m\u001b[0;34m'test'\u001b[0m\u001b[0;34m)\u001b[0m\u001b[0;34m\u001b[0m\u001b[0;34m\u001b[0m\u001b[0m\n",
      "\u001b[0;32m<ipython-input-7-d6416a0afeb9>\u001b[0m in \u001b[0;36mcreate_lists\u001b[0;34m(path)\u001b[0m\n\u001b[1;32m      4\u001b[0m     \u001b[0marticles_contents\u001b[0m \u001b[0;34m=\u001b[0m \u001b[0;34m[\u001b[0m\u001b[0;34m]\u001b[0m\u001b[0;34m\u001b[0m\u001b[0;34m\u001b[0m\u001b[0m\n\u001b[1;32m      5\u001b[0m     \u001b[0;32mfor\u001b[0m \u001b[0mfile\u001b[0m \u001b[0;32min\u001b[0m \u001b[0mfiles\u001b[0m\u001b[0;34m:\u001b[0m\u001b[0;34m\u001b[0m\u001b[0;34m\u001b[0m\u001b[0m\n\u001b[0;32m----> 6\u001b[0;31m         \u001b[0mid_article\u001b[0m \u001b[0;34m=\u001b[0m \u001b[0;34m(\u001b[0m\u001b[0mfile\u001b[0m\u001b[0;34m.\u001b[0m\u001b[0msplit\u001b[0m\u001b[0;34m(\u001b[0m\u001b[0;34m\"/\"\u001b[0m\u001b[0;34m)\u001b[0m\u001b[0;34m[\u001b[0m\u001b[0;36m1\u001b[0m\u001b[0;34m]\u001b[0m\u001b[0;34m)\u001b[0m\u001b[0;34m.\u001b[0m\u001b[0msplit\u001b[0m\u001b[0;34m(\u001b[0m\u001b[0;34m'.'\u001b[0m\u001b[0;34m)\u001b[0m\u001b[0;34m[\u001b[0m\u001b[0;36m1\u001b[0m\u001b[0;34m]\u001b[0m\u001b[0;34m;\u001b[0m\u001b[0;34m\u001b[0m\u001b[0;34m\u001b[0m\u001b[0m\n\u001b[0m\u001b[1;32m      7\u001b[0m         \u001b[0mf\u001b[0m \u001b[0;34m=\u001b[0m \u001b[0mopen\u001b[0m\u001b[0;34m(\u001b[0m\u001b[0;34m'../data/news/'\u001b[0m\u001b[0;34m+\u001b[0m\u001b[0mpath\u001b[0m\u001b[0;34m+\u001b[0m\u001b[0;34m'/'\u001b[0m\u001b[0;34m+\u001b[0m\u001b[0mid_article\u001b[0m\u001b[0;34m+\u001b[0m\u001b[0;34m'.txt'\u001b[0m\u001b[0;34m,\u001b[0m\u001b[0;34m'r'\u001b[0m\u001b[0;34m,\u001b[0m \u001b[0mencoding\u001b[0m\u001b[0;34m=\u001b[0m\u001b[0;34m'utf-8'\u001b[0m\u001b[0;34m)\u001b[0m\u001b[0;34m.\u001b[0m\u001b[0mread\u001b[0m\u001b[0;34m(\u001b[0m\u001b[0;34m)\u001b[0m\u001b[0;34m\u001b[0m\u001b[0;34m\u001b[0m\u001b[0m\n\u001b[1;32m      8\u001b[0m         \u001b[0mid_articles\u001b[0m\u001b[0;34m.\u001b[0m\u001b[0mappend\u001b[0m\u001b[0;34m(\u001b[0m\u001b[0mint\u001b[0m\u001b[0;34m(\u001b[0m\u001b[0mid_article\u001b[0m\u001b[0;34m)\u001b[0m\u001b[0;34m)\u001b[0m\u001b[0;34m\u001b[0m\u001b[0;34m\u001b[0m\u001b[0m\n",
      "\u001b[0;31mIndexError\u001b[0m: list index out of range"
     ]
    }
   ],
   "source": [
    "def create_lists(path):\n",
    "    files = glob.glob('../data/news/'+path+'/*.txt')   \n",
    "    id_articles = []\n",
    "    articles_contents = []\n",
    "    for file in files:\n",
    "        id_article = (file.split(\"/\")[1]).split('.')[0];\n",
    "        f = open('../data/news/'+path+'/'+id_article+'.txt','r', encoding='utf-8').read()\n",
    "        id_articles.append(int(id_article))\n",
    "        articles_contents.append(f)\n",
    "    return id_articles, articles_contents\n",
    "\n",
    "X_train_ids, X_train_contents = create_lists('training')\n",
    "X_test_ids, X_test_contents = create_lists('test')\n"
   ]
  },
  {
   "cell_type": "code",
   "execution_count": 77,
   "metadata": {},
   "outputs": [],
   "source": [
    "def get_Y_train():\n",
    "    true_val = []\n",
    "    indexes = []\n",
    "    articles = open('../data/labels_training.txt','r').readlines()[1:]\n",
    "    for i in articles:\n",
    "        true_val.append(int(i.split(',')[1][:-1]))\n",
    "        indexes.append(i.split(',')[0])\n",
    "    return pd.DataFrame(true_val,columns=['fake_news'],index=indexes)\n",
    "\n",
    "Y_train = get_Y_train().sort_index()"
   ]
  },
  {
   "cell_type": "code",
   "execution_count": 78,
   "metadata": {},
   "outputs": [],
   "source": [
    "def sentense2cleanTokens(sent):\n",
    "    sent = sent.lower()\n",
    "    sent = \"\".join([x if x.isalpha() else \" \" for x in sent])\n",
    "    sent = \" \".join(sent.split())\n",
    "    return sent"
   ]
  },
  {
   "cell_type": "code",
   "execution_count": 79,
   "metadata": {},
   "outputs": [],
   "source": [
    "X_train = []\n",
    "for i in X_train_contents:\n",
    "    X_train.append(sentense2cleanTokens(i))\n",
    "    \n",
    "X_test = []\n",
    "for j in X_test_contents:\n",
    "    X_test.append(sentense2cleanTokens(j))\n",
    "    \n",
    "Y_train = list(Y_train['fake_news'])"
   ]
  },
  {
   "cell_type": "code",
   "execution_count": 80,
   "metadata": {},
   "outputs": [],
   "source": [
    "#Peut etre a remettre 10 en min_df !\n",
    "vec = TfidfVectorizer(max_df=0.7, min_df=0.1, max_features=100000, stop_words='english')\n",
    "#vec = CountVectorizer(max_df=0.7, min_df=10, max_features=100000, stop_words='english') \n",
    "X = vec.fit_transform(X_train + X_test)\n",
    "df = pd.DataFrame(X.toarray(), index=X_train_ids + X_test_ids, columns=vec.get_feature_names())\n"
   ]
  },
  {
   "cell_type": "markdown",
   "metadata": {},
   "source": [
    "<u><b>Ajout plus grande phrase, nombre de phrases</b></u>"
   ]
  },
  {
   "cell_type": "code",
   "execution_count": 81,
   "metadata": {},
   "outputs": [],
   "source": [
    "plus_grande_phrase = []\n",
    "number_sentences = []\n",
    "for i in X_train_contents:\n",
    "    maxi_phrase = 0\n",
    "    nb_sent = 0\n",
    "    for sentence in i.split(\".\"):\n",
    "        nb_sent += 1\n",
    "        if len(sentence) > maxi_phrase:\n",
    "            maxi_phrase = len(sentence)\n",
    "    plus_grande_phrase.append(maxi_phrase)\n",
    "    number_sentences.append(nb_sent)\n",
    "for i in X_test_contents:\n",
    "    maxi_phrase = 0\n",
    "    nb_sent = 0\n",
    "    for sentence in i.split(\".\"):\n",
    "        nb_sent += 1\n",
    "        if len(sentence) > maxi_phrase:\n",
    "            maxi_phrase = len(sentence)\n",
    "    plus_grande_phrase.append(maxi_phrase)\n",
    "    number_sentences.append(nb_sent)\n",
    "\n",
    "df['plus_grande_phrase']= plus_grande_phrase\n",
    "df['nb_sent'] = number_sentences"
   ]
  },
  {
   "cell_type": "markdown",
   "metadata": {},
   "source": [
    "##### partie william"
   ]
  },
  {
   "cell_type": "code",
   "execution_count": 82,
   "metadata": {},
   "outputs": [],
   "source": [
    "longueur_article = []\n",
    "for article in X_train:\n",
    "    longueur_article.append(len(article))\n",
    "for article in X_test:\n",
    "    longueur_article.append(len(article))\n",
    "df['len_article'] = longueur_article"
   ]
  },
  {
   "cell_type": "code",
   "execution_count": 83,
   "metadata": {},
   "outputs": [],
   "source": [
    "longueur_titre = []\n",
    "for article in X_train_contents:\n",
    "    longueur_titre.append(len(article.split('\\n')[0]))\n",
    "for article in X_test_contents:\n",
    "    longueur_titre.append(len(article.split('\\n')[0]))\n",
    "df['len_title'] = longueur_titre\n"
   ]
  },
  {
   "cell_type": "code",
   "execution_count": 84,
   "metadata": {},
   "outputs": [],
   "source": [
    "nb_word = []\n",
    "nb_entity = []\n",
    "for article in X_train_contents:\n",
    "    cpt = 0\n",
    "    for word in article.split(' '):\n",
    "        if word[:1].isupper() or word.isupper():\n",
    "             cpt += 1\n",
    "    nb_word.append(len(article.split(' ')))\n",
    "    nb_entity.append(cpt)\n",
    "for article in X_test_contents:\n",
    "    cpt = 0\n",
    "    for word in article.split(' '):\n",
    "        if word[:1].isupper() or word.isupper():\n",
    "             cpt += 1\n",
    "    nb_word.append(len(article.split(' ')))\n",
    "    nb_entity.append(cpt)\n",
    "    \n",
    "df['nb_word'] = nb_word\n",
    "#C'est plutôt le nombre de mots commençant par une majuscule en fait\n",
    "df['nb_entity'] = nb_entity"
   ]
  },
  {
   "cell_type": "markdown",
   "metadata": {},
   "source": [
    "<b> Partie test de truc noul </b>"
   ]
  },
  {
   "cell_type": "code",
   "execution_count": 85,
   "metadata": {},
   "outputs": [],
   "source": [
    "last_sent = []\n",
    "for article in X_train_contents:\n",
    "    last_sent.append(len(article.split('\\n')[-1]))\n",
    "for article in X_test_contents:\n",
    "    last_sent.append(len(article.split('\\n')[-1]))\n",
    "df['last_sent'] = last_sent"
   ]
  },
  {
   "cell_type": "markdown",
   "metadata": {},
   "source": [
    "<u><b>Ajout en fonction du nombre de type de mot</b></u>"
   ]
  },
  {
   "cell_type": "code",
   "execution_count": 86,
   "metadata": {},
   "outputs": [
    {
     "data": {
      "text/plain": [
       "\"from nltk import ne_chunk, pos_tag, word_tokenize\\nnb_nnp = []\\nfor article in X_train:\\n    cpt = 0\\n    for i in pos_tag(word_tokenize(article)):\\n        if i[1] == 'NNP':\\n            cpt += 1\\n    nb_nnp.append(cpt)\\nfor article in X_test:\\n    cpt = 0\\n    for i in pos_tag(word_tokenize(article)):\\n        if i[1] == 'NNP':\\n            cpt += 1\\n    nb_nnp.append(cpt)\\ndf['nb_nnp'] = nb_nnp\""
      ]
     },
     "execution_count": 86,
     "metadata": {},
     "output_type": "execute_result"
    }
   ],
   "source": [
    "\"\"\"from nltk import ne_chunk, pos_tag, word_tokenize\n",
    "nb_nnp = []\n",
    "for article in X_train:\n",
    "    cpt = 0\n",
    "    for i in pos_tag(word_tokenize(article)):\n",
    "        if i[1] == 'NNP':\n",
    "            cpt += 1\n",
    "    nb_nnp.append(cpt)\n",
    "for article in X_test:\n",
    "    cpt = 0\n",
    "    for i in pos_tag(word_tokenize(article)):\n",
    "        if i[1] == 'NNP':\n",
    "            cpt += 1\n",
    "    nb_nnp.append(cpt)\n",
    "df['nb_nnp'] = nb_nnp\"\"\"\n",
    "\n",
    "##Pas pertinent"
   ]
  },
  {
   "cell_type": "markdown",
   "metadata": {},
   "source": [
    "<b><u>Ajout des infos users</u></b>"
   ]
  },
  {
   "cell_type": "code",
   "execution_count": 87,
   "metadata": {},
   "outputs": [],
   "source": [
    "newsUsers = open('../data/newsUser.txt','r').readlines()"
   ]
  },
  {
   "cell_type": "code",
   "execution_count": 88,
   "metadata": {},
   "outputs": [],
   "source": [
    "id_articles = []\n",
    "id_users = []\n",
    "nb_propa = []\n",
    "for i in newsUsers:\n",
    "    id_articles.append(str(i.split(\"\\t\")[0]))\n",
    "    id_users.append(str(i.split(\"\\t\")[1]))\n",
    "    nb_propa.append(int((i.split(\"\\t\")[2]).split(\"\\n\")[0]))"
   ]
  },
  {
   "cell_type": "code",
   "execution_count": 89,
   "metadata": {},
   "outputs": [],
   "source": [
    "article_users = {}\n",
    "for i in range(len(id_articles)):\n",
    "    users_propa = {}\n",
    "    if id_articles[i] in article_users.keys():\n",
    "        users_propa = article_users[id_articles[i]]\n",
    "    users_propa[id_users[i]] = nb_propa[i]\n",
    "    article_users[id_articles[i]] = users_propa"
   ]
  },
  {
   "cell_type": "markdown",
   "metadata": {},
   "source": [
    "<b><i>article_users : dico de la forme clé id_article : dico associé clé id_user values nb de propagation de cet article par cet user"
   ]
  },
  {
   "cell_type": "code",
   "execution_count": 90,
   "metadata": {},
   "outputs": [],
   "source": [
    "UsersUsers = open('../data/UserUser.txt','r').readlines()"
   ]
  },
  {
   "cell_type": "code",
   "execution_count": 91,
   "metadata": {},
   "outputs": [],
   "source": [
    "id_users_followers = []\n",
    "id_users_followed = []\n",
    "for i in UsersUsers:\n",
    "    id_users_followers.append(str(i.split(\"\\t\")[0]))\n",
    "    id_users_followed.append(str(i.split(\"\\t\")[1]).split(\"\\n\")[0])"
   ]
  },
  {
   "cell_type": "code",
   "execution_count": 92,
   "metadata": {},
   "outputs": [],
   "source": [
    "user_user = {}\n",
    "for i in range(len(id_users_followers)):\n",
    "    user_followed = []\n",
    "    if id_users_followers[i] in user_user.keys():\n",
    "        user_followed = user_user[id_users_followers[i]]\n",
    "    user_followed.append(id_users_followed[i])\n",
    "    user_user[id_users_followers[i]] = user_followed"
   ]
  },
  {
   "cell_type": "markdown",
   "metadata": {},
   "source": [
    "<b><i> user_user : dico de la forme clé du dico suit tous les utilisateurs de la liste associé"
   ]
  },
  {
   "cell_type": "code",
   "execution_count": 93,
   "metadata": {},
   "outputs": [],
   "source": [
    "nb_propa_article = []\n",
    "for i in df.index:\n",
    "    nb_propa_article.append(sum(article_users[str(i)].values()))\n",
    "df['nb_propa_article'] = nb_propa_article"
   ]
  },
  {
   "cell_type": "markdown",
   "metadata": {},
   "source": [
    "<b><u>Ajout des topics des articles </u></b> \n",
    "# TO DO"
   ]
  },
  {
   "cell_type": "code",
   "execution_count": 97,
   "metadata": {},
   "outputs": [],
   "source": [
    "from sklearn.cluster import MiniBatchKMeans"
   ]
  },
  {
   "cell_type": "code",
   "execution_count": 106,
   "metadata": {},
   "outputs": [
    {
     "data": {
      "text/plain": [
       "MiniBatchKMeans(batch_size=100, compute_labels=True, init='k-means++',\n",
       "        init_size=None, max_iter=100, max_no_improvement=10,\n",
       "        n_clusters=240, n_init=3, random_state=None,\n",
       "        reassignment_ratio=0.01, tol=0.0, verbose=0)"
      ]
     },
     "execution_count": 106,
     "metadata": {},
     "output_type": "execute_result"
    }
   ],
   "source": [
    "km = MiniBatchKMeans(n_clusters=len(df))\n",
    "km.fit(X)"
   ]
  },
  {
   "cell_type": "code",
   "execution_count": 107,
   "metadata": {},
   "outputs": [
    {
     "name": "stdout",
     "output_type": "stream",
     "text": [
      "Cluster 0: north military said officials wednesday general united states say cnn\n",
      "Cluster 1: obama john president doing past barack like trump wednesday stand\n",
      "Cluster 2: trump nation wants attacks cnn thing right did think american\n",
      "Cluster 3: clinton trump new debate federal presidential said secretary soon nation\n",
      "Cluster 4: video police family released clinton does said chief post north\n",
      "Cluster 5: president court states country bring war case did state times\n",
      "Cluster 6: trump president debate united years states support make country know\n",
      "Cluster 7: doesn trump line gop free source leader democrats face officials\n",
      "Cluster 8: news breaking source com young great gop got government happened\n",
      "Cluster 9: women state did control recently today like having kind doesn\n",
      "Cluster 10: white house trump president decided post months time good thing\n",
      "Cluster 11: stop york new policy person fox city week trump asked\n",
      "Cluster 12: death case clinton head seen time way breaking turned wasn\n",
      "Cluster 13: war trump man president world young public end life like\n",
      "Cluster 14: working money trump people things man breaking vote ll work\n",
      "Cluster 15: city reported news family man great good gop got government\n",
      "Cluster 16: facebook share place later city happened just recently issue deal\n",
      "Cluster 17: obama president administration house need said american republicans barack new\n",
      "Cluster 18: clinton million according government world justice state told said public\n",
      "Cluster 19: police man black north year story lives shares african soon\n",
      "Cluster 20: believe question life sure comments candidate used asked hillary know\n",
      "Cluster 21: lost trump response john read office doesn america donald ago\n",
      "Cluster 22: white cnn post death race calls speech women nation america\n",
      "Cluster 23: new said york monday city police man race old night\n",
      "Cluster 24: days ll week way actually best just want time different\n",
      "Cluster 25: trump local family year history years says old donald according\n",
      "Cluster 26: gop trump members campaign washington house congress tuesday republican working\n",
      "Cluster 27: home children old years using case came later help wasn\n",
      "Cluster 28: run breaking calling act local case making times morning law\n",
      "Cluster 29: trump president best donald country days great washington things thing\n",
      "Cluster 30: set use change family need make sure getting want trump\n",
      "Cluster 31: black campaign obama didn americans trump america president went people\n",
      "Cluster 32: debate question candidate look president campaign policy like presidential years\n",
      "Cluster 33: democrats government republicans tuesday house gop leader million said added\n",
      "Cluster 34: let country national children history democratic nation want ve right\n",
      "Cluster 35: fox news police head home run line wrong city york\n",
      "Cluster 36: obama president barack clinton reason trump white house said hillary\n",
      "Cluster 37: year court old long years think better really man reason\n",
      "Cluster 38: let left say source know bring don work going make\n",
      "Cluster 39: comments women good job doing american like president people especially\n",
      "Cluster 40: vote got million did states clinton line rights death leader\n",
      "Cluster 41: trump white image september just children war donald say like\n",
      "Cluster 42: right help good support need house makes talking wasn place\n",
      "Cluster 43: justice members black police general said calling lost men sure\n",
      "Cluster 44: says military told point said new wasn major secretary war\n",
      "Cluster 45: com general source best looking government good gop got happened\n",
      "Cluster 46: public facebook state law according children old media year calling\n",
      "Cluster 47: police said law set country best life right people happened\n",
      "Cluster 48: year young know video john media took things people run\n",
      "Cluster 49: looking night make story wednesday just military stand democrats leave\n",
      "Cluster 50: just way control breaking recently lost congress minutes saying washington\n",
      "Cluster 51: share trump line got days world want make donald just\n",
      "Cluster 52: friends man use old local number actually making home year\n",
      "Cluster 53: right doing long donald trump matter actually like comments said\n",
      "Cluster 54: american high officials government world happened just race source plan\n",
      "Cluster 55: party says cnn left vote change public better political democratic\n",
      "Cluster 56: york cnn republican trump new house monday nominee campaign presidential\n",
      "Cluster 57: clinton debate trump campaign secretary face new monday attacks hillary\n",
      "Cluster 58: using children republican use did gop shares rights wants person\n",
      "Cluster 59: free actually trying breaking story obama just wasn really news\n",
      "Cluster 60: world speech children bring monday long things need state time\n",
      "Cluster 61: country released morning according republican tuesday monday new happened job\n",
      "Cluster 62: trump problem real women political years think hillary person fox\n",
      "Cluster 63: september white great democrats party history african republicans house twitter\n",
      "Cluster 64: trump clinton political like lot americans said speech policy obama\n",
      "Cluster 65: away wednesday breaking free source facebook having said later won\n",
      "Cluster 66: order press public general leader nation statement president trump image\n",
      "Cluster 67: justice court man trump president united states say making donald\n",
      "Cluster 68: major looking new state month source high officials plan bring\n",
      "Cluster 69: breaking working having know clinton reason just decided attack bring\n",
      "Cluster 70: history know don like wrong today comments trying believe really\n",
      "Cluster 71: great called united young video million john order things going\n",
      "Cluster 72: vote hillary want things way young video john candidate good\n",
      "Cluster 73: obama court took trump breaking turned released leave federal sure\n",
      "Cluster 74: turned death face plan working men administration place press million\n",
      "Cluster 75: men people money women believe world want different children best\n",
      "Cluster 76: court matter lives given told political law young news video\n",
      "Cluster 77: law state time new people just shares person video making\n",
      "Cluster 78: using start use comments women john good does things used\n",
      "Cluster 79: trump different debate clinton makes say help just share like\n",
      "Cluster 80: race congress known little time years president running run today\n",
      "Cluster 81: president war free taking post know matter sure best given\n",
      "Cluster 82: war possible soon september reported country attack officials united calling\n",
      "Cluster 83: children florida reported high best getting video known public added\n",
      "Cluster 84: trump times york new calling actually story media long donald\n",
      "Cluster 85: comments president people way breaking just stand wasn general federal\n",
      "Cluster 86: americans looking doesn young great going good gop got government\n",
      "Cluster 87: comments ago african officials local said later city statement year\n",
      "Cluster 88: news didn make september breaking decided major bad general able\n",
      "Cluster 89: fact war stop said wrong did debate night took like\n",
      "Cluster 90: new rights post debate read york man united states american\n",
      "Cluster 91: left old took year makes lot september business breaking month\n",
      "Cluster 92: said going party debate election think running know end candidate\n",
      "Cluster 93: fact source death want say image released military calling month\n",
      "Cluster 94: state florida according breaking court free press won monday election\n",
      "Cluster 95: country years family ago like just september wasn death young\n",
      "Cluster 96: released united face little say month left comes minutes seen\n",
      "Cluster 97: money night police young great good gop got government happened\n",
      "Cluster 98: old year makes lives stand story police court reason image\n",
      "Cluster 99: face free ll office life time going plan trump able\n",
      "Cluster 100: life believe different white house make stop control recently month\n",
      "Cluster 101: later face police day young video change time come man\n",
      "Cluster 102: trump america hillary make bring business wants start won ll\n",
      "Cluster 103: clinton women york new hillary people turned run just ago\n",
      "Cluster 104: think control right long americans want don time florida different\n",
      "Cluster 105: military said obama day asked white house line policy rights\n",
      "Cluster 106: trump end fact business just lost great americans called told\n",
      "Cluster 107: political clinton said new called going reason secretary attacks job\n",
      "Cluster 108: women men york turned business fox news got city police\n",
      "Cluster 109: video trump president happened talking major military response war past\n",
      "Cluster 110: media talking story united states news just shares attack high\n",
      "Cluster 111: new number com young going hillary high help head having\n",
      "Cluster 112: cnn minutes news night story released issue person didn twitter\n",
      "Cluster 113: members court reported set leave justice number minutes recent doing\n",
      "Cluster 114: obama little turned policy decided wants friends race working issue\n",
      "Cluster 115: trump attack going video great nominee good donald man america\n",
      "Cluster 116: says war city african black state court history local public\n",
      "Cluster 117: home york history hillary high help head having happened great\n",
      "Cluster 118: family fox told police death tuesday press party year source\n",
      "Cluster 119: working soon trump going won saying president make country comes\n",
      "Cluster 120: said media world state american want campaign right recently ago\n",
      "Cluster 121: just north million office released especially democrats possible soon looking\n",
      "Cluster 122: debate trump stand members says campaign run video monday donald\n",
      "Cluster 123: control million trump given donald times fact called people post\n",
      "Cluster 124: history think like donald just trump good gop got government\n",
      "Cluster 125: public news country like world control business friends set plan\n",
      "Cluster 126: secretary general said trump years chief press says donald campaign\n",
      "Cluster 127: chief high case just clinton ago released death justice left\n",
      "Cluster 128: days come didn according talking recently major question high officials\n",
      "Cluster 129: washington obama interview president calls calling free source face trump\n",
      "Cluster 130: campaign trump million presidential government money federal far end candidate\n",
      "Cluster 131: bad doesn hillary job kind interview added nominee president donald\n",
      "Cluster 132: black white post took statement breaking released north left facebook\n",
      "Cluster 133: women people state states believe united attacks head public want\n",
      "Cluster 134: trump states says united donald shares fox cnn news facebook\n",
      "Cluster 135: trump children know leader like donald don seen having money\n",
      "Cluster 136: obama got year just white house act congress working seen\n",
      "Cluster 137: debate trump stand members says campaign run video monday donald\n",
      "Cluster 138: men president trump news like turned line just florida month\n",
      "Cluster 139: war want rights young obama video look according stop know\n",
      "Cluster 140: donald attack trump media friends source left press morning share\n",
      "Cluster 141: trump night nominee donald presidential people republican cnn said makes\n",
      "Cluster 142: white america make having need thing going just children money\n",
      "Cluster 143: trump won twitter president lot country months took donald americans\n",
      "Cluster 144: clinton media story country police stop reported calls leave congress\n",
      "Cluster 145: people work million want day free working going don americans\n",
      "Cluster 146: police wednesday state night man continued north local according american\n",
      "Cluster 147: death says interview country government person speech getting doesn told\n",
      "Cluster 148: court rights justice trump members use case public united states\n",
      "Cluster 149: trump republicans party including nominee support donald said american republican\n",
      "Cluster 150: democrats republicans north election point obama clinton news won great\n",
      "Cluster 151: police order man court told black ve did children head\n",
      "Cluster 152: obama ago life story lot reported post months barack read\n",
      "Cluster 153: city rights place people right control stand set country speech\n",
      "Cluster 154: vote state person start election set soon states need new\n",
      "Cluster 155: obama doing times donald job just business trump men like\n",
      "Cluster 156: political obama asked tuesday stand trump national republican people running\n",
      "Cluster 157: obama police day trump like president lives friends matter barack\n",
      "Cluster 158: run away police good wants person does people going way\n",
      "Cluster 159: trump house week recently secretary president hillary clinton morning law\n",
      "Cluster 160: didn men friends told life later asked came time going\n",
      "Cluster 161: trump wednesday don away donald used said turned just african\n",
      "Cluster 162: life trump children old election donald man president major taking\n",
      "Cluster 163: law north state city people local federal way said support\n",
      "Cluster 164: obama trump president order share line federal free shares soon\n",
      "Cluster 165: police home old men year believe florida house told later\n",
      "Cluster 166: justice says running trump campaign state race candidate million year\n",
      "Cluster 167: white african number years major source federal facebook having given\n",
      "Cluster 168: just trump young given hillary high help head having happened\n",
      "Cluster 169: clinton house members use party government hillary chief secretary act\n",
      "Cluster 170: share line family turned just shares stand released friends local\n",
      "Cluster 171: right does said trump donald talking time says people just\n",
      "Cluster 172: trump line president statement share things say released let office\n",
      "Cluster 173: military going trump great saying gop make using plan use\n",
      "Cluster 174: clinton post hillary election trump presidential breaking story order candidate\n",
      "Cluster 175: obama congress washington president officials attacks deal tried said state\n",
      "Cluster 176: obama court took trump breaking turned released leave federal sure\n",
      "Cluster 177: obama old year barack facebook won read president york house\n",
      "Cluster 178: police said trump family law black african know obama public\n",
      "Cluster 179: clinton trump going say said debate past comments women added\n",
      "Cluster 180: hillary president clinton trump job look government want said think\n",
      "Cluster 181: president house obama vote states wednesday congress members time work\n",
      "Cluster 182: city obama reported leader said earlier night used white news\n",
      "Cluster 183: trump law police minutes just didn candidate americans want presidential\n",
      "Cluster 184: fox according new million news like turned facebook days share\n",
      "Cluster 185: trump tuesday debate think donald house hillary instead trying asked\n",
      "Cluster 186: obama breaking taking government white years like just said got\n",
      "Cluster 187: president obama twitter great september death barack monday office children\n",
      "Cluster 188: trump said campaign deal don earlier point trying took week\n",
      "Cluster 189: clinton speech wednesday trump people secretary nominee united state states\n",
      "Cluster 190: obama long america chief republicans said government statement support year\n",
      "Cluster 191: trump obama president democrats americans house federal congress war white\n",
      "Cluster 192: women just like stop let right reason bad making said\n",
      "Cluster 193: trump business support president american public story media police know\n",
      "Cluster 194: facebook order trump said president news donald image taking know\n",
      "Cluster 195: september black african trump white people years american donald americans\n",
      "Cluster 196: trump september million twitter donald image com says year country\n",
      "Cluster 197: debate presidential look september young attacks wrong vote actually com\n",
      "Cluster 198: said trump speech man vote believe court time know saying\n",
      "Cluster 199: trump war donald man president clinton party america know world\n",
      "Cluster 200: white people obama years ve black president americans america thing\n",
      "Cluster 201: clinton trump states republican cnn florida north democratic new state\n",
      "Cluster 202: home police black lives matter asked death today according running\n",
      "Cluster 203: war trump donald president turned interview added took years way\n",
      "Cluster 204: clinton hillary political york new president breaking run secretary candidate\n",
      "Cluster 205: million democrats money democratic said leader gop york republicans campaign\n",
      "Cluster 206: obama administration trump president wants doing press media does went\n",
      "Cluster 207: black campaign obama didn americans trump america president went people\n",
      "Cluster 208: trump nominee donald comments known hillary people really republican clinton\n"
     ]
    },
    {
     "name": "stdout",
     "output_type": "stream",
     "text": [
      "Cluster 209: clinton released obama breaking reason attack secretary death using comes\n",
      "Cluster 210: source recent white house trump president breaking recently administration members\n",
      "Cluster 211: president trump states united order donald need days fact especially\n",
      "Cluster 212: clinton trump policy world monday said president campaign nominee different\n",
      "Cluster 213: north trump reason added said republican florida reported secretary leader\n",
      "Cluster 214: trump campaign gop media republican nominee presidential talking race officials\n",
      "Cluster 215: clinton president looking end said friends working authors given came\n",
      "Cluster 216: trump debate clinton candidate hillary time september image stop stand\n",
      "Cluster 217: stop trump policy york new city african fox black donald\n",
      "Cluster 218: clinton trump obama long great americans said president african tried\n",
      "Cluster 219: clinton trump comes national new according hillary wednesday released recent\n",
      "Cluster 220: vote government monday democrats republicans deal said want issue federal\n",
      "Cluster 221: debate million clinton trump history cnn people twitter fox face\n",
      "Cluster 222: york new trump cnn monday said america makes wrong tuesday\n",
      "Cluster 223: clinton trump campaign debate used hillary young including national twitter\n",
      "Cluster 224: campaign trump didn black obama vote got ve right state\n",
      "Cluster 225: trump clinton president america obama presidential year support policy world\n",
      "Cluster 226: debate clinton bring trump didn better ll went going said\n",
      "Cluster 227: hillary clinton debate trump tuesday york taking new added campaign\n",
      "Cluster 228: debate trump clinton presidential new donald women campaign hillary day\n",
      "Cluster 229: north justice money act secretary clinton state obama administration tried\n",
      "Cluster 230: democrats government republicans said house new law vote support going\n",
      "Cluster 231: new place facebook later city happened just recently issue deal\n",
      "Cluster 232: stop police city black trump york policy new court interview\n",
      "Cluster 233: obama president administration house need said american republicans barack come\n",
      "Cluster 234: trump debate clinton candidate hillary time september image stop stand\n",
      "Cluster 235: trump local family year history years says old donald according\n",
      "Cluster 236: trump different debate clinton makes say help just share like\n",
      "Cluster 237: fox news police head home run line wrong city york\n",
      "Cluster 238: military going trump great saying gop make using plan use\n",
      "Cluster 239: law north state city people local federal way said support\n"
     ]
    }
   ],
   "source": [
    "order_centroids = km.cluster_centers_.argsort()[:, ::-1]\n",
    "terms = vec.get_feature_names()\n",
    "for i in range(len(df)):\n",
    "    print(\"Cluster %d:\" % i, end='')\n",
    "    for ind in order_centroids[i, :10]:\n",
    "        print(' %s' % terms[ind], end='')\n",
    "    print()s"
   ]
  },
  {
   "cell_type": "markdown",
   "metadata": {},
   "source": [
    "<b><u>Partie Réseau</u></b>\n",
    "# TO DO"
   ]
  },
  {
   "cell_type": "code",
   "execution_count": 96,
   "metadata": {},
   "outputs": [
    {
     "data": {
      "text/html": [
       "<div>\n",
       "<style scoped>\n",
       "    .dataframe tbody tr th:only-of-type {\n",
       "        vertical-align: middle;\n",
       "    }\n",
       "\n",
       "    .dataframe tbody tr th {\n",
       "        vertical-align: top;\n",
       "    }\n",
       "\n",
       "    .dataframe thead th {\n",
       "        text-align: right;\n",
       "    }\n",
       "</style>\n",
       "<table border=\"1\" class=\"dataframe\">\n",
       "  <thead>\n",
       "    <tr style=\"text-align: right;\">\n",
       "      <th></th>\n",
       "      <th>able</th>\n",
       "      <th>according</th>\n",
       "      <th>act</th>\n",
       "      <th>actually</th>\n",
       "      <th>added</th>\n",
       "      <th>administration</th>\n",
       "      <th>african</th>\n",
       "      <th>ago</th>\n",
       "      <th>america</th>\n",
       "      <th>american</th>\n",
       "      <th>...</th>\n",
       "      <th>young</th>\n",
       "      <th>plus_grande_phrase</th>\n",
       "      <th>nb_sent</th>\n",
       "      <th>len_article</th>\n",
       "      <th>len_title</th>\n",
       "      <th>nb_word</th>\n",
       "      <th>nb_entity</th>\n",
       "      <th>last_sent</th>\n",
       "      <th>nb_propa_article</th>\n",
       "      <th>cluster</th>\n",
       "    </tr>\n",
       "  </thead>\n",
       "  <tbody>\n",
       "    <tr>\n",
       "      <th>1</th>\n",
       "      <td>0.0</td>\n",
       "      <td>0.000000</td>\n",
       "      <td>0.000000</td>\n",
       "      <td>0.0</td>\n",
       "      <td>0.0</td>\n",
       "      <td>0.0</td>\n",
       "      <td>0.000000</td>\n",
       "      <td>0.000000</td>\n",
       "      <td>0.000000</td>\n",
       "      <td>0.00000</td>\n",
       "      <td>...</td>\n",
       "      <td>0.000000</td>\n",
       "      <td>331</td>\n",
       "      <td>10</td>\n",
       "      <td>1391</td>\n",
       "      <td>92</td>\n",
       "      <td>230</td>\n",
       "      <td>40</td>\n",
       "      <td>110</td>\n",
       "      <td>36</td>\n",
       "      <td>0</td>\n",
       "    </tr>\n",
       "    <tr>\n",
       "      <th>10</th>\n",
       "      <td>0.0</td>\n",
       "      <td>0.000000</td>\n",
       "      <td>0.126273</td>\n",
       "      <td>0.0</td>\n",
       "      <td>0.0</td>\n",
       "      <td>0.0</td>\n",
       "      <td>0.000000</td>\n",
       "      <td>0.000000</td>\n",
       "      <td>0.000000</td>\n",
       "      <td>0.00000</td>\n",
       "      <td>...</td>\n",
       "      <td>0.252545</td>\n",
       "      <td>279</td>\n",
       "      <td>16</td>\n",
       "      <td>2315</td>\n",
       "      <td>79</td>\n",
       "      <td>427</td>\n",
       "      <td>47</td>\n",
       "      <td>138</td>\n",
       "      <td>26</td>\n",
       "      <td>0</td>\n",
       "    </tr>\n",
       "    <tr>\n",
       "      <th>100</th>\n",
       "      <td>0.0</td>\n",
       "      <td>0.000000</td>\n",
       "      <td>0.125643</td>\n",
       "      <td>0.0</td>\n",
       "      <td>0.0</td>\n",
       "      <td>0.0</td>\n",
       "      <td>0.000000</td>\n",
       "      <td>0.000000</td>\n",
       "      <td>0.000000</td>\n",
       "      <td>0.00000</td>\n",
       "      <td>...</td>\n",
       "      <td>0.000000</td>\n",
       "      <td>399</td>\n",
       "      <td>11</td>\n",
       "      <td>1507</td>\n",
       "      <td>56</td>\n",
       "      <td>230</td>\n",
       "      <td>55</td>\n",
       "      <td>9</td>\n",
       "      <td>64</td>\n",
       "      <td>0</td>\n",
       "    </tr>\n",
       "    <tr>\n",
       "      <th>101</th>\n",
       "      <td>0.0</td>\n",
       "      <td>0.000000</td>\n",
       "      <td>0.119101</td>\n",
       "      <td>0.0</td>\n",
       "      <td>0.0</td>\n",
       "      <td>0.0</td>\n",
       "      <td>0.000000</td>\n",
       "      <td>0.241020</td>\n",
       "      <td>0.086289</td>\n",
       "      <td>0.00000</td>\n",
       "      <td>...</td>\n",
       "      <td>0.119101</td>\n",
       "      <td>258</td>\n",
       "      <td>20</td>\n",
       "      <td>1992</td>\n",
       "      <td>88</td>\n",
       "      <td>376</td>\n",
       "      <td>70</td>\n",
       "      <td>16</td>\n",
       "      <td>5</td>\n",
       "      <td>0</td>\n",
       "    </tr>\n",
       "    <tr>\n",
       "      <th>102</th>\n",
       "      <td>0.0</td>\n",
       "      <td>0.021658</td>\n",
       "      <td>0.029894</td>\n",
       "      <td>0.0</td>\n",
       "      <td>0.0</td>\n",
       "      <td>0.0</td>\n",
       "      <td>0.209256</td>\n",
       "      <td>0.030248</td>\n",
       "      <td>0.000000</td>\n",
       "      <td>0.12342</td>\n",
       "      <td>...</td>\n",
       "      <td>0.000000</td>\n",
       "      <td>265</td>\n",
       "      <td>115</td>\n",
       "      <td>12924</td>\n",
       "      <td>41</td>\n",
       "      <td>2133</td>\n",
       "      <td>340</td>\n",
       "      <td>158</td>\n",
       "      <td>36</td>\n",
       "      <td>1</td>\n",
       "    </tr>\n",
       "  </tbody>\n",
       "</table>\n",
       "<p>5 rows × 265 columns</p>\n",
       "</div>"
      ],
      "text/plain": [
       "     able  according       act  actually  added  administration   african  \\\n",
       "1     0.0   0.000000  0.000000       0.0    0.0             0.0  0.000000   \n",
       "10    0.0   0.000000  0.126273       0.0    0.0             0.0  0.000000   \n",
       "100   0.0   0.000000  0.125643       0.0    0.0             0.0  0.000000   \n",
       "101   0.0   0.000000  0.119101       0.0    0.0             0.0  0.000000   \n",
       "102   0.0   0.021658  0.029894       0.0    0.0             0.0  0.209256   \n",
       "\n",
       "          ago   america  american   ...        young  plus_grande_phrase  \\\n",
       "1    0.000000  0.000000   0.00000   ...     0.000000                 331   \n",
       "10   0.000000  0.000000   0.00000   ...     0.252545                 279   \n",
       "100  0.000000  0.000000   0.00000   ...     0.000000                 399   \n",
       "101  0.241020  0.086289   0.00000   ...     0.119101                 258   \n",
       "102  0.030248  0.000000   0.12342   ...     0.000000                 265   \n",
       "\n",
       "     nb_sent  len_article  len_title  nb_word  nb_entity  last_sent  \\\n",
       "1         10         1391         92      230         40        110   \n",
       "10        16         2315         79      427         47        138   \n",
       "100       11         1507         56      230         55          9   \n",
       "101       20         1992         88      376         70         16   \n",
       "102      115        12924         41     2133        340        158   \n",
       "\n",
       "     nb_propa_article  cluster  \n",
       "1                  36        0  \n",
       "10                 26        0  \n",
       "100                64        0  \n",
       "101                 5        0  \n",
       "102                36        1  \n",
       "\n",
       "[5 rows x 265 columns]"
      ]
     },
     "execution_count": 96,
     "metadata": {},
     "output_type": "execute_result"
    }
   ],
   "source": [
    "df.head()"
   ]
  },
  {
   "cell_type": "markdown",
   "metadata": {},
   "source": [
    "##### Séparation de notre dataframe en deux df : train / test"
   ]
  },
  {
   "cell_type": "code",
   "execution_count": 51,
   "metadata": {},
   "outputs": [],
   "source": [
    "df_train = pd.DataFrame(df.loc[X_train_ids])\n",
    "df_test = pd.DataFrame(df.loc[X_test_ids])"
   ]
  },
  {
   "cell_type": "markdown",
   "metadata": {},
   "source": [
    "<u><b>Partie entraînement du modèle</b></u>"
   ]
  },
  {
   "cell_type": "code",
   "execution_count": 52,
   "metadata": {},
   "outputs": [],
   "source": [
    "from sklearn.neural_network import MLPClassifier\n",
    "from sklearn.model_selection import cross_val_score\n",
    "from sklearn.linear_model import LogisticRegression\n",
    "from sklearn.tree import DecisionTreeClassifier\n",
    "from sklearn.ensemble import RandomForestClassifier\n",
    "from sklearn.ensemble import GradientBoostingClassifier\n",
    "from sklearn.neighbors import KNeighborsClassifier\n",
    "from sklearn.cluster import KMeans\n",
    "from sklearn.naive_bayes import MultinomialNB"
   ]
  },
  {
   "cell_type": "code",
   "execution_count": 53,
   "metadata": {},
   "outputs": [
    {
     "data": {
      "image/png": "[encoded data removed]",
      "text/plain": [
       "<Figure size 432x288 with 1 Axes>"
      ]
     },
     "metadata": {},
     "output_type": "display_data"
    }
   ],
   "source": [
    "#### Contribution de nos features\n",
    "\n",
    "X = df_train \n",
    "y = Y_train    \n",
    "\n",
    "\n",
    "model = GradientBoostingClassifier(loss = 'exponential')\n",
    "model.fit(X,y)\n",
    "\n",
    "feat_importances = pd.Series(model.feature_importances_, index=X.columns)\n",
    "feat_importances.nlargest(30).plot(kind='barh')\n",
    "plt.show()"
   ]
  },
  {
   "cell_type": "code",
   "execution_count": 54,
   "metadata": {},
   "outputs": [
    {
     "name": "stdout",
     "output_type": "stream",
     "text": [
      "0.9078362573099416\n"
     ]
    },
    {
     "data": {
      "text/plain": [
       "GradientBoostingClassifier(criterion='friedman_mse', init=None,\n",
       "              learning_rate=0.1, loss='exponential', max_depth=3,\n",
       "              max_features=None, max_leaf_nodes=None,\n",
       "              min_impurity_decrease=0.0, min_impurity_split=None,\n",
       "              min_samples_leaf=1, min_samples_split=2,\n",
       "              min_weight_fraction_leaf=0.0, n_estimators=100,\n",
       "              presort='auto', random_state=None, subsample=1.0, verbose=0,\n",
       "              warm_start=False)"
      ]
     },
     "execution_count": 54,
     "metadata": {},
     "output_type": "execute_result"
    }
   ],
   "source": [
    "model = GradientBoostingClassifier(loss = 'exponential')\n",
    "pred = np.mean(cross_val_score(model, df_train, Y_train, cv=10))\n",
    "print(pred)\n",
    "clf_gbc = GradientBoostingClassifier(loss = 'exponential')\n",
    "clf_gbc.fit(df_train, Y_train)"
   ]
  },
  {
   "cell_type": "code",
   "execution_count": 55,
   "metadata": {},
   "outputs": [
    {
     "data": {
      "image/png": "[encoded data removed]",
      "text/plain": [
       "<Figure size 432x288 with 1 Axes>"
      ]
     },
     "metadata": {},
     "output_type": "display_data"
    }
   ],
   "source": [
    "#### Contribution de nos features\n",
    "\n",
    "X = df_train \n",
    "y = Y_train    \n",
    "\n",
    "\n",
    "model = RandomForestClassifier(n_estimators= 1400, min_samples_split= 2, min_samples_leaf= 1, max_features='auto', max_depth= 40, bootstrap= False)\n",
    "model.fit(X,y)\n",
    "feat_importances = pd.Series(model.feature_importances_, index=X.columns)\n",
    "feat_importances.nlargest(30).plot(kind='barh')\n",
    "plt.show()"
   ]
  },
  {
   "cell_type": "code",
   "execution_count": 64,
   "metadata": {},
   "outputs": [
    {
     "name": "stdout",
     "output_type": "stream",
     "text": [
      "0.902017543859649\n"
     ]
    },
    {
     "data": {
      "text/plain": [
       "RandomForestClassifier(bootstrap=False, class_weight=None, criterion='gini',\n",
       "            max_depth=40, max_features='auto', max_leaf_nodes=None,\n",
       "            min_impurity_decrease=0.0, min_impurity_split=None,\n",
       "            min_samples_leaf=1, min_samples_split=2,\n",
       "            min_weight_fraction_leaf=0.0, n_estimators=1400, n_jobs=1,\n",
       "            oob_score=False, random_state=None, verbose=0,\n",
       "            warm_start=False)"
      ]
     },
     "execution_count": 64,
     "metadata": {},
     "output_type": "execute_result"
    }
   ],
   "source": [
    "model = RandomForestClassifier(n_estimators= 1400, min_samples_split= 2, min_samples_leaf= 1, max_features='auto', max_depth= 40, bootstrap= False)\n",
    "pred = np.mean(cross_val_score(model, df_train, Y_train, cv=10))\n",
    "print(pred)\n",
    "clf_gbc = RandomForestClassifier(n_estimators= 1400, min_samples_split= 2, min_samples_leaf= 1, max_features='auto', max_depth= 40, bootstrap= False)\n",
    "clf_gbc.fit(df_train, Y_train)"
   ]
  },
  {
   "cell_type": "markdown",
   "metadata": {},
   "source": [
    "<b><u>Pour push sur Kaggle</u></b>"
   ]
  },
  {
   "cell_type": "code",
   "execution_count": 65,
   "metadata": {},
   "outputs": [],
   "source": [
    "pred_test = clf_gbc.predict(df_test)"
   ]
  },
  {
   "cell_type": "code",
   "execution_count": 66,
   "metadata": {},
   "outputs": [],
   "source": [
    "os.remove(\"../pred_test.txt\")\n",
    "fichier = open(\"../pred_test.txt\", \"a\")\n",
    "fichier.write(\"doc,class\")\n",
    "for i in range(len(pred_test)):\n",
    "    fichier.write(\"\\n\" + str(X_test_ids[i]) + ',' + str(pred_test[i]))\n",
    "fichier.close()"
   ]
  },
  {
   "cell_type": "code",
   "execution_count": 67,
   "metadata": {},
   "outputs": [],
   "source": [
    "#Calcul du score"
   ]
  },
  {
   "cell_type": "code",
   "execution_count": 68,
   "metadata": {},
   "outputs": [],
   "source": [
    "fichier_100 = open(\"../pred_test_v4.txt\", \"r\").readlines()[1:]\n",
    "fichier_push = open(\"../pred_test.txt\", \"r\").readlines()[1:]"
   ]
  },
  {
   "cell_type": "code",
   "execution_count": 69,
   "metadata": {},
   "outputs": [],
   "source": [
    "result_a_avoir = []\n",
    "result_eu = []\n",
    "for i in fichier_100:\n",
    "    result_a_avoir.append(i.split(',')[1])\n",
    "for i in fichier_push:\n",
    "    result_eu.append(i.split(',')[1])\n"
   ]
  },
  {
   "cell_type": "code",
   "execution_count": 70,
   "metadata": {},
   "outputs": [],
   "source": [
    "from sklearn.metrics import accuracy_score"
   ]
  },
  {
   "cell_type": "code",
   "execution_count": 71,
   "metadata": {},
   "outputs": [
    {
     "name": "stdout",
     "output_type": "stream",
     "text": [
      "0.851063829787234\n"
     ]
    }
   ],
   "source": [
    "print(accuracy_score(result_eu, result_a_avoir))"
   ]
  },
  {
   "cell_type": "code",
   "execution_count": null,
   "metadata": {},
   "outputs": [],
   "source": []
  }
 ],
 "metadata": {
  "kernelspec": {
   "display_name": "Python 3",
   "language": "python",
   "name": "python3"
  },
  "language_info": {
   "codemirror_mode": {
    "name": "ipython",
    "version": 3
   },
   "file_extension": ".py",
   "mimetype": "text/x-python",
   "name": "python",
   "nbconvert_exporter": "python",
   "pygments_lexer": "ipython3",
   "version": "3.7.1"
  }
 },
 "nbformat": 4,
 "nbformat_minor": 2
}
