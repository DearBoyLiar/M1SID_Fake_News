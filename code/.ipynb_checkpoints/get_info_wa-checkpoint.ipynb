{
 "cells": [
  {
   "cell_type": "code",
   "execution_count": 1,
   "metadata": {},
   "outputs": [],
   "source": [
    "# Base librairies\n",
    "import pandas as pd\n",
    "import matplotlib.pyplot as plt\n",
    "import numpy as np\n",
    "import datetime\n",
    "import warnings\n",
    "import seaborn as sns\n",
    "warnings.simplefilter(\"ignore\")\n",
    "\n",
    "# Content extraction\n",
    "import glob\n",
    "\n",
    "# Prédiction librairies\n",
    "from sklearn.feature_extraction.text import TfidfVectorizer\n",
    "from sklearn.feature_extraction.text import CountVectorizer\n",
    "from sklearn.ensemble import GradientBoostingClassifier\n",
    "from sklearn.ensemble import  RandomForestClassifier\n",
    "from sklearn.model_selection import RandomizedSearchCV\n",
    "from sklearn.neural_network import MLPClassifier\n",
    "from sklearn.model_selection import cross_val_score\n",
    "from sklearn.model_selection import cross_val_predict\n",
    "\n",
    "# Network part\n",
    "import networkx as nx"
   ]
  },
  {
   "cell_type": "code",
   "execution_count": 2,
   "metadata": {},
   "outputs": [],
   "source": [
    "def get_articles(name):\n",
    "    dictio = {}\n",
    "    list_of_files = glob.glob('../data/news/'+name+'/*.txt')        \n",
    "    for i,file_name in enumerate(list_of_files):\n",
    "        id_article = file_name[:-4].split('/')[4]\n",
    "        dictio[int(id_article)] = open(file_name,'r').read()\n",
    "    return dictio\n",
    "\n",
    "def get_words(content):\n",
    "    vectorizer = TfidfVectorizer(min_df=1,lowercase=False,stop_words='english')\n",
    "    vectorizer.fit_transform(content.split('.'))\n",
    "    return vectorizer.get_feature_names()\n",
    "\n",
    "def get_features(df,vocab=None):\n",
    "    df['len_content'] = df['content'].apply(lambda x : len(x))\n",
    "    \n",
    "    df['len_title'] = df['content'].apply(lambda x: len(x.split('\\n')[0]))\n",
    "    global_vectorizer = TfidfVectorizer(min_df=0.1,max_df=0.95,lowercase=False,stop_words='english',max_features=400)\n",
    "    global_vectorizer.fit_transform(df['content'])\n",
    "    pertinent_vocab = global_vectorizer.get_feature_names()\n",
    "    \n",
    "    article_vocab = [get_words(content) for content in df['content']]\n",
    "    df['nb_relevant'] = [len (set(vocab) & set(pertinent_vocab)) for vocab in article_vocab]\n",
    "    \n",
    "    golbal_count_vectorizer = CountVectorizer(min_df=8,max_df=0.95,stop_words='english',max_features=800,vocabulary=vocab)\n",
    "    X = golbal_count_vectorizer.fit_transform(df['content'])\n",
    "    df_words = pd.DataFrame(X.toarray(),index=df.index,columns=golbal_count_vectorizer.get_feature_names())\n",
    "    df_words['len_content'], df_words['nb_relevant'],df_words['len_title'] = df['len_content'],df['nb_relevant'],df['len_title']\n",
    "    \n",
    "    df_words['nb_words'] = [len(vocab) for vocab in article_vocab]\n",
    "    upper_case_words = []\n",
    "    for vocab in article_vocab:\n",
    "        upper_case_words.append(len([word for word in vocab if word.isupper()]))\n",
    "    df_words['nb_uppercase_words'] = upper_case_words\n",
    "    \n",
    "    i = df_words.index\n",
    "    df_words['nb_entity'] =[0]*len(df_words)\n",
    "    for index,vocab in zip(i,article_vocab):\n",
    "        for word in vocab:\n",
    "            if (any(x.isupper() for x in word)) or word.isupper():\n",
    "                df_words['nb_entity'].loc[index] += 1\n",
    "    return df_words,golbal_count_vectorizer.get_feature_names()\n",
    "    \n",
    "\n",
    "def get_Y_train():\n",
    "    articles = open('../data/labels_training.txt','r').readlines()[1:]\n",
    "    id_articles = [int(art.split(',')[0]) for art in articles]\n",
    "    return pd.DataFrame([int(art.split(',')[1][:-1]) for art in articles],columns=['fake_news'],index=id_articles)\n",
    "\n",
    "def rmse(y_true, y_pred):\n",
    "    return metrics.mean_squared_error(y_true, y_pred) ** 0.5"
   ]
  },
  {
   "cell_type": "markdown",
   "metadata": {},
   "source": [
    "### Get articles for training and testing"
   ]
  },
  {
   "cell_type": "code",
   "execution_count": 3,
   "metadata": {},
   "outputs": [],
   "source": [
    "train = get_articles('training')\n",
    "test = get_articles('test')"
   ]
  },
  {
   "cell_type": "markdown",
   "metadata": {},
   "source": [
    "### Transform to dataframe"
   ]
  },
  {
   "cell_type": "code",
   "execution_count": 4,
   "metadata": {},
   "outputs": [],
   "source": [
    "df_train = pd.DataFrame.from_dict(train,orient='index',columns=['content'])\n",
    "df_test = pd.DataFrame.from_dict(test,orient='index',columns=['content'])"
   ]
  },
  {
   "cell_type": "markdown",
   "metadata": {},
   "source": [
    "### Features engineering"
   ]
  },
  {
   "cell_type": "code",
   "execution_count": 5,
   "metadata": {},
   "outputs": [],
   "source": [
    "df_train,vocab= get_features(df_train)\n",
    "df_test,vocab = get_features(df_test,vocab)"
   ]
  },
  {
   "cell_type": "code",
   "execution_count": 6,
   "metadata": {},
   "outputs": [
    {
     "data": {
      "text/html": [
       "<div>\n",
       "<style scoped>\n",
       "    .dataframe tbody tr th:only-of-type {\n",
       "        vertical-align: middle;\n",
       "    }\n",
       "\n",
       "    .dataframe tbody tr th {\n",
       "        vertical-align: top;\n",
       "    }\n",
       "\n",
       "    .dataframe thead th {\n",
       "        text-align: right;\n",
       "    }\n",
       "</style>\n",
       "<table border=\"1\" class=\"dataframe\">\n",
       "  <thead>\n",
       "    <tr style=\"text-align: right;\">\n",
       "      <th></th>\n",
       "      <th>000</th>\n",
       "      <th>10</th>\n",
       "      <th>100</th>\n",
       "      <th>11</th>\n",
       "      <th>12</th>\n",
       "      <th>15</th>\n",
       "      <th>16</th>\n",
       "      <th>19</th>\n",
       "      <th>20</th>\n",
       "      <th>2012</th>\n",
       "      <th>...</th>\n",
       "      <th>years</th>\n",
       "      <th>yes</th>\n",
       "      <th>york</th>\n",
       "      <th>young</th>\n",
       "      <th>len_content</th>\n",
       "      <th>nb_relevant</th>\n",
       "      <th>len_title</th>\n",
       "      <th>nb_words</th>\n",
       "      <th>nb_uppercase_words</th>\n",
       "      <th>nb_entity</th>\n",
       "    </tr>\n",
       "  </thead>\n",
       "  <tbody>\n",
       "    <tr>\n",
       "      <th>98</th>\n",
       "      <td>0</td>\n",
       "      <td>0</td>\n",
       "      <td>0</td>\n",
       "      <td>0</td>\n",
       "      <td>0</td>\n",
       "      <td>0</td>\n",
       "      <td>0</td>\n",
       "      <td>0</td>\n",
       "      <td>0</td>\n",
       "      <td>0</td>\n",
       "      <td>...</td>\n",
       "      <td>0</td>\n",
       "      <td>0</td>\n",
       "      <td>0</td>\n",
       "      <td>0</td>\n",
       "      <td>1502</td>\n",
       "      <td>24</td>\n",
       "      <td>52</td>\n",
       "      <td>90</td>\n",
       "      <td>1</td>\n",
       "      <td>21</td>\n",
       "    </tr>\n",
       "    <tr>\n",
       "      <th>13</th>\n",
       "      <td>0</td>\n",
       "      <td>0</td>\n",
       "      <td>0</td>\n",
       "      <td>0</td>\n",
       "      <td>0</td>\n",
       "      <td>0</td>\n",
       "      <td>0</td>\n",
       "      <td>0</td>\n",
       "      <td>0</td>\n",
       "      <td>0</td>\n",
       "      <td>...</td>\n",
       "      <td>0</td>\n",
       "      <td>0</td>\n",
       "      <td>0</td>\n",
       "      <td>0</td>\n",
       "      <td>1731</td>\n",
       "      <td>44</td>\n",
       "      <td>86</td>\n",
       "      <td>117</td>\n",
       "      <td>1</td>\n",
       "      <td>43</td>\n",
       "    </tr>\n",
       "    <tr>\n",
       "      <th>5</th>\n",
       "      <td>0</td>\n",
       "      <td>0</td>\n",
       "      <td>0</td>\n",
       "      <td>0</td>\n",
       "      <td>0</td>\n",
       "      <td>0</td>\n",
       "      <td>0</td>\n",
       "      <td>0</td>\n",
       "      <td>0</td>\n",
       "      <td>0</td>\n",
       "      <td>...</td>\n",
       "      <td>0</td>\n",
       "      <td>0</td>\n",
       "      <td>0</td>\n",
       "      <td>0</td>\n",
       "      <td>2008</td>\n",
       "      <td>41</td>\n",
       "      <td>68</td>\n",
       "      <td>145</td>\n",
       "      <td>4</td>\n",
       "      <td>40</td>\n",
       "    </tr>\n",
       "    <tr>\n",
       "      <th>63</th>\n",
       "      <td>0</td>\n",
       "      <td>0</td>\n",
       "      <td>0</td>\n",
       "      <td>0</td>\n",
       "      <td>0</td>\n",
       "      <td>0</td>\n",
       "      <td>0</td>\n",
       "      <td>0</td>\n",
       "      <td>0</td>\n",
       "      <td>0</td>\n",
       "      <td>...</td>\n",
       "      <td>0</td>\n",
       "      <td>0</td>\n",
       "      <td>0</td>\n",
       "      <td>0</td>\n",
       "      <td>1714</td>\n",
       "      <td>20</td>\n",
       "      <td>32</td>\n",
       "      <td>83</td>\n",
       "      <td>3</td>\n",
       "      <td>31</td>\n",
       "    </tr>\n",
       "    <tr>\n",
       "      <th>166</th>\n",
       "      <td>0</td>\n",
       "      <td>0</td>\n",
       "      <td>0</td>\n",
       "      <td>0</td>\n",
       "      <td>0</td>\n",
       "      <td>0</td>\n",
       "      <td>0</td>\n",
       "      <td>0</td>\n",
       "      <td>1</td>\n",
       "      <td>0</td>\n",
       "      <td>...</td>\n",
       "      <td>1</td>\n",
       "      <td>0</td>\n",
       "      <td>0</td>\n",
       "      <td>0</td>\n",
       "      <td>1716</td>\n",
       "      <td>31</td>\n",
       "      <td>114</td>\n",
       "      <td>123</td>\n",
       "      <td>6</td>\n",
       "      <td>44</td>\n",
       "    </tr>\n",
       "  </tbody>\n",
       "</table>\n",
       "<p>5 rows × 806 columns</p>\n",
       "</div>"
      ],
      "text/plain": [
       "     000  10  100  11  12  15  16  19  20  2012    ...      years  yes  york  \\\n",
       "98     0   0    0   0   0   0   0   0   0     0    ...          0    0     0   \n",
       "13     0   0    0   0   0   0   0   0   0     0    ...          0    0     0   \n",
       "5      0   0    0   0   0   0   0   0   0     0    ...          0    0     0   \n",
       "63     0   0    0   0   0   0   0   0   0     0    ...          0    0     0   \n",
       "166    0   0    0   0   0   0   0   0   1     0    ...          1    0     0   \n",
       "\n",
       "     young  len_content  nb_relevant  len_title  nb_words  nb_uppercase_words  \\\n",
       "98       0         1502           24         52        90                   1   \n",
       "13       0         1731           44         86       117                   1   \n",
       "5        0         2008           41         68       145                   4   \n",
       "63       0         1714           20         32        83                   3   \n",
       "166      0         1716           31        114       123                   6   \n",
       "\n",
       "     nb_entity  \n",
       "98          21  \n",
       "13          43  \n",
       "5           40  \n",
       "63          31  \n",
       "166         44  \n",
       "\n",
       "[5 rows x 806 columns]"
      ]
     },
     "execution_count": 6,
     "metadata": {},
     "output_type": "execute_result"
    }
   ],
   "source": [
    "df_train.tail()"
   ]
  },
  {
   "cell_type": "markdown",
   "metadata": {},
   "source": [
    "### Some graphs"
   ]
  },
  {
   "cell_type": "code",
   "execution_count": 7,
   "metadata": {},
   "outputs": [
    {
     "data": {
      "text/plain": [
       "Text(0, 0.5, 'Nb caracters')"
      ]
     },
     "execution_count": 7,
     "metadata": {},
     "output_type": "execute_result"
    },
    {
     "data": {
      "image/png": "[encoded data removed]",
      "text/plain": [
       "<Figure size 432x288 with 1 Axes>"
      ]
     },
     "metadata": {
      "needs_background": "light"
     },
     "output_type": "display_data"
    }
   ],
   "source": [
    "plt.plot(df_train['len_content'],'.')\n",
    "plt.title('Number of caracters per article')\n",
    "plt.xlabel('Article id')\n",
    "plt.ylabel('Nb caracters')"
   ]
  },
  {
   "cell_type": "code",
   "execution_count": 8,
   "metadata": {},
   "outputs": [
    {
     "data": {
      "text/plain": [
       "Text(0, 0.5, 'Nb relevants words')"
      ]
     },
     "execution_count": 8,
     "metadata": {},
     "output_type": "execute_result"
    },
    {
     "data": {
      "image/png": "[encoded data removed]",
      "text/plain": [
       "<Figure size 432x288 with 1 Axes>"
      ]
     },
     "metadata": {
      "needs_background": "light"
     },
     "output_type": "display_data"
    }
   ],
   "source": [
    "plt.plot(df_train['nb_relevant'],'.')\n",
    "plt.title('Number of relevant words per article')\n",
    "plt.xlabel('Article id')\n",
    "plt.ylabel('Nb relevants words')"
   ]
  },
  {
   "cell_type": "markdown",
   "metadata": {},
   "source": [
    "### It's prediction time !"
   ]
  },
  {
   "cell_type": "code",
   "execution_count": 9,
   "metadata": {},
   "outputs": [],
   "source": [
    "X_train = df_train.sort_index()\n",
    "Y_train = get_Y_train().sort_index()\n",
    "X_test = df_test"
   ]
  },
  {
   "cell_type": "code",
   "execution_count": 10,
   "metadata": {},
   "outputs": [
    {
     "data": {
      "text/plain": [
       "<matplotlib.axes._subplots.AxesSubplot at 0x7fb60735a588>"
      ]
     },
     "execution_count": 10,
     "metadata": {},
     "output_type": "execute_result"
    },
    {
     "data": {
      "image/png": "[encoded data removed]",
      "text/plain": [
       "<Figure size 432x288 with 1 Axes>"
      ]
     },
     "metadata": {
      "needs_background": "light"
     },
     "output_type": "display_data"
    }
   ],
   "source": [
    "# real y-train distribution\n",
    "sns.distplot(Y_train)"
   ]
  },
  {
   "cell_type": "markdown",
   "metadata": {},
   "source": [
    "### Best parameters"
   ]
  },
  {
   "cell_type": "code",
   "execution_count": 36,
   "metadata": {},
   "outputs": [
    {
     "name": "stdout",
     "output_type": "stream",
     "text": [
      "Fitting 5 folds for each of 100 candidates, totalling 500 fits\n"
     ]
    },
    {
     "name": "stderr",
     "output_type": "stream",
     "text": [
      "[Parallel(n_jobs=-1)]: Using backend LokyBackend with 8 concurrent workers.\n",
      "[Parallel(n_jobs=-1)]: Done   2 tasks      | elapsed:    0.9s\n",
      "[Parallel(n_jobs=-1)]: Done  56 tasks      | elapsed:    7.9s\n",
      "[Parallel(n_jobs=-1)]: Done 146 tasks      | elapsed:   19.6s\n",
      "[Parallel(n_jobs=-1)]: Done 272 tasks      | elapsed:   35.4s\n",
      "[Parallel(n_jobs=-1)]: Done 434 tasks      | elapsed:  1.0min\n",
      "[Parallel(n_jobs=-1)]: Done 500 out of 500 | elapsed:  1.2min finished\n",
      "/home/cmisid/anaconda3/lib/python3.7/site-packages/sklearn/model_selection/_search.py:841: DeprecationWarning: The default of the `iid` parameter will change from True to False in version 0.22 and will be removed in 0.24. This will change numeric results when test-set sizes are unequal.\n",
      "  DeprecationWarning)\n"
     ]
    },
    {
     "data": {
      "text/plain": [
       "{'n_estimators': 1600,\n",
       " 'min_samples_split': 2,\n",
       " 'min_samples_leaf': 4,\n",
       " 'max_features': 'sqrt',\n",
       " 'max_depth': 60}"
      ]
     },
     "execution_count": 36,
     "metadata": {},
     "output_type": "execute_result"
    }
   ],
   "source": [
    "# Number of trees in random forest\n",
    "n_estimators = [int(x) for x in np.linspace(start = 200, stop = 2000, num = 10)]\n",
    "# Number of features to consider at every split\n",
    "max_features = ['auto', 'sqrt']\n",
    "# Maximum number of levels in tree\n",
    "max_depth = [int(x) for x in np.linspace(10, 110, num = 11)]\n",
    "max_depth.append(None)\n",
    "# Minimum number of samples required to split a node\n",
    "min_samples_split = [2, 5, 10]\n",
    "# Minimum number of samples required at each leaf node\n",
    "min_samples_leaf = [1, 2, 4]\n",
    "\n",
    "# Create the random grid\n",
    "random_grid = {'n_estimators': n_estimators,\n",
    "               'max_features': max_features,\n",
    "               'max_depth': max_depth,\n",
    "               'min_samples_split': min_samples_split,\n",
    "               'min_samples_leaf': min_samples_leaf}\n",
    "\n",
    "rf = GradientBoostingClassifier()\n",
    "# Random search of parameters, using 3 fold cross validation, \n",
    "# search across 100 different combinations, and use all available cores\n",
    "rf_random = RandomizedSearchCV(estimator = rf, param_distributions = random_grid, n_iter = 100, cv = 5, verbose=5, random_state=42, n_jobs = -1)\n",
    "# Fit the random search model\n",
    "rf_random.fit(X_train,Y_train)\n",
    "\n",
    "rf_random.best_params_"
   ]
  },
  {
   "cell_type": "markdown",
   "metadata": {},
   "source": [
    "### Cross validation"
   ]
  },
  {
   "cell_type": "code",
   "execution_count": 37,
   "metadata": {},
   "outputs": [
    {
     "data": {
      "text/plain": [
       "0.9016959064327486"
      ]
     },
     "execution_count": 37,
     "metadata": {},
     "output_type": "execute_result"
    }
   ],
   "source": [
    "#Based on a model and best parameters, get a cross val score\n",
    "clf = GradientBoostingClassifier(n_estimators= 1600,min_samples_split= 2,min_samples_leaf=4,max_features='auto',max_depth=60)\n",
    "np.mean(cross_val_score(clf,X_train,Y_train,cv=10))"
   ]
  },
  {
   "cell_type": "markdown",
   "metadata": {},
   "source": [
    "### With the help of the model we can predict"
   ]
  },
  {
   "cell_type": "code",
   "execution_count": 38,
   "metadata": {},
   "outputs": [],
   "source": [
    "clf = GradientBoostingClassifier(n_estimators= 1600,min_samples_split= 2,min_samples_leaf=4,max_features='auto',max_depth=60)\n",
    "clf.fit(X_train,Y_train)\n",
    "Y_test = clf.predict(X_test)"
   ]
  },
  {
   "cell_type": "markdown",
   "metadata": {},
   "source": [
    "### Create a submission file"
   ]
  },
  {
   "cell_type": "code",
   "execution_count": 39,
   "metadata": {},
   "outputs": [],
   "source": [
    "now = str(datetime.datetime.now())[:19]\n",
    "with open('../data/submissions/bogota_mates_submission_'+now+'.txt', 'w') as f:\n",
    "    f.write('doc,class\\n')\n",
    "    for value,doc in zip(Y_test,X_test.index):\n",
    "        f.write(str(doc)+ ',' + str(value)+\"\\n\")"
   ]
  },
  {
   "cell_type": "markdown",
   "metadata": {},
   "source": [
    "## NETWORK"
   ]
  },
  {
   "cell_type": "code",
   "execution_count": null,
   "metadata": {},
   "outputs": [],
   "source": [
    "f = open('../data/newsUser.txt','r')\n",
    "nb_news = pd.DataFrame([line.split() for line in f.readlines()],columns=['id_article','id_user','weight'])\n",
    "f = open('../data/UserUser.txt','r')\n",
    "follows = pd.DataFrame([line.split() for line in f.readlines()],columns=['follower','followed'])"
   ]
  },
  {
   "cell_type": "code",
   "execution_count": null,
   "metadata": {},
   "outputs": [],
   "source": [
    "nb_news['id_article'][0]"
   ]
  },
  {
   "cell_type": "code",
   "execution_count": null,
   "metadata": {},
   "outputs": [],
   "source": [
    "g = nx.Graph()\n",
    "for i,val in enumerate(nb_news['id_article']):\n",
    "    g.add_edges_from([(nb_news['id_article'][i],nb_news['id_user'][i])],weight=nb_news['weight'])"
   ]
  },
  {
   "cell_type": "code",
   "execution_count": null,
   "metadata": {},
   "outputs": [],
   "source": [
    "degree = pd.Series([node[1] for node in g.degree])\n",
    "sns.distplot(degree,kde=False,bins=20)\n",
    "plt.show()"
   ]
  },
  {
   "cell_type": "code",
   "execution_count": null,
   "metadata": {},
   "outputs": [],
   "source": [
    "# Degree\n",
    "degree_centrality = nx.degree_centrality(g)"
   ]
  },
  {
   "cell_type": "code",
   "execution_count": null,
   "metadata": {},
   "outputs": [],
   "source": [
    "degree_centrality"
   ]
  },
  {
   "cell_type": "code",
   "execution_count": null,
   "metadata": {},
   "outputs": [],
   "source": []
  }
 ],
 "metadata": {
  "kernelspec": {
   "display_name": "Python 3",
   "language": "python",
   "name": "python3"
  },
  "language_info": {
   "codemirror_mode": {
    "name": "ipython",
    "version": 3
   },
   "file_extension": ".py",
   "mimetype": "text/x-python",
   "name": "python",
   "nbconvert_exporter": "python",
   "pygments_lexer": "ipython3",
   "version": "3.7.1"
  }
 },
 "nbformat": 4,
 "nbformat_minor": 2
}
