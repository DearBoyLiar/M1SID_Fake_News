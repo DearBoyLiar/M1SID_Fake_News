{
 "cells": [
  {
   "cell_type": "markdown",
   "metadata": {},
   "source": [
    "<b> <center>PROJET PREDICTION DE FAKE NEWS </center>\n",
    "<br>\n",
    "<center>M1 SID </center>\n",
    "    <center>Université Toulouse III</center>\n",
    "<center>William AZZOUZA / Cyril GAILLARD </center>"
   ]
  },
  {
   "cell_type": "markdown",
   "metadata": {},
   "source": [
    "#### <u>Importation des librairies utiles</u>"
   ]
  },
  {
   "cell_type": "code",
   "execution_count": 1,
   "metadata": {},
   "outputs": [],
   "source": [
    "#Partie générale\n",
    "import glob\n",
    "import os\n",
    "import pandas as pd\n",
    "import numpy as np\n",
    "import matplotlib.pyplot as plt\n",
    "from tqdm import tqdm_notebook as tqdm\n",
    "from os.path import basename\n",
    "import warnings\n",
    "warnings.simplefilter(\"ignore\")\n",
    "#Partie Texte\n",
    "from sklearn.feature_extraction.text import TfidfVectorizer\n",
    "from sklearn.feature_extraction.text import CountVectorizer \n",
    "import sklearn.decomposition as skld\n",
    "from sklearn.model_selection import KFold\n",
    "\n",
    "#Partie Réseau \n",
    "import networkx as nx\n",
    "\n",
    "#Partie Machine Learning\n",
    "#Dans ces imports se trouvent la liste des classifier que nous avons essayé pour prédire ; \n",
    "#nous n'en avons cependant conserver qu'un.\n",
    "from sklearn.neural_network import MLPClassifier\n",
    "from sklearn.model_selection import cross_val_score\n",
    "from sklearn.linear_model import LogisticRegression\n",
    "from sklearn.tree import DecisionTreeClassifier\n",
    "from sklearn.ensemble import RandomForestClassifier\n",
    "from sklearn.ensemble import GradientBoostingClassifier\n",
    "from sklearn.neighbors import KNeighborsClassifier\n",
    "from sklearn.cluster import KMeans\n",
    "from sklearn.naive_bayes import MultinomialNB"
   ]
  },
  {
   "cell_type": "markdown",
   "metadata": {},
   "source": [
    "#### <u>Fonctions servant pour lire les différents fichiers textes"
   ]
  },
  {
   "cell_type": "code",
   "execution_count": 2,
   "metadata": {},
   "outputs": [],
   "source": [
    "#Fonction récupérant les articles\n",
    "#Input : un chemin\n",
    "#Output : deux listes contenant respectivement, les id_article et les contenus de ces articles\n",
    "def create_lists(path):\n",
    "    files = glob.glob('../data/news/'+path+'/*.txt')   \n",
    "    id_articles = []\n",
    "    articles_contents = []\n",
    "    for file in files:\n",
    "        id_article = (basename(file).split(\".\")[0]);\n",
    "        article = open('../data/news/'+path+'/'+id_article+'.txt','r', encoding='utf-8').read()\n",
    "        id_articles.append(int(id_article))\n",
    "        articles_contents.append(article)\n",
    "    return pd.DataFrame(articles_contents,columns=['content'],index=id_articles)\n",
    "\n",
    "\n",
    "#Fonction récupérant le Ytrain\n",
    "#Input : /\n",
    "#Output : un dataframe contenant Ytrain\n",
    "def get_Y_train():\n",
    "    true_val = []\n",
    "    indexes = []\n",
    "    articles = open('../data/labels_training.txt','r').readlines()[1:]\n",
    "    for i in articles:\n",
    "        true_val.append(int(i.split(',')[1][:-1]))\n",
    "        indexes.append(int(i.split(',')[0]))\n",
    "    return pd.DataFrame(true_val,columns=['fake_news'],index=indexes)\n"
   ]
  },
  {
   "cell_type": "markdown",
   "metadata": {},
   "source": [
    "#### <u>Fonctions servant pour la partie texte"
   ]
  },
  {
   "cell_type": "code",
   "execution_count": 3,
   "metadata": {},
   "outputs": [],
   "source": [
    "#Fonction nettoyant les articles\n",
    "#Input : un article\n",
    "#Output : un article nettoyé\n",
    "def sentense2cleanTokens(sent):\n",
    "    sent = sent.lower()\n",
    "    sent = \"\".join([x if x.isalpha() else \" \" for x in sent])\n",
    "    sent = \" \".join(sent.split())\n",
    "    return sent"
   ]
  },
  {
   "cell_type": "markdown",
   "metadata": {},
   "source": [
    "#### <u>Fonction servant pour la partie réseau"
   ]
  },
  {
   "cell_type": "code",
   "execution_count": 4,
   "metadata": {},
   "outputs": [],
   "source": [
    "# Renvoie les informations relatives aux centralités en degré calculé sur un graphique dirigé\n",
    "# input ; les noeuds, les arcs et les users\n",
    "# output : nb de users importants par article, id des articles partagés par des users influents\n",
    "def get_network_features(nodes,edges,news_users):\n",
    "    \n",
    "    # Initialisation du graphique directionnel\n",
    "    graph = nx.DiGraph()\n",
    "\n",
    "    # Ajout des noeuds\n",
    "    for node in nodes:\n",
    "        graph.add_node(node)\n",
    "\n",
    "    # Ajout des arcs\n",
    "    for edge in edges.values:\n",
    "        graph.add_edge(edge[0],edge[1])\n",
    "    \n",
    "    # Calcul des centralités selon la méthode de degré pour selectionner les noeuds les plus \"centraux/importants\"\n",
    "    calculated_centralities = pd.DataFrame(nx.degree_centrality(graph),index=['Degree']).T\n",
    "    top_degree = calculated_centralities['Degree'].sort_values()[len(calculated_centralities)-1000:len(calculated_centralities)+1].index\n",
    "    \n",
    "    \n",
    "    id_article = []\n",
    "    for new_user in news_users.values:\n",
    "        # Si le user fait partie des \"meilleurs\" noeuds selon la centralité degré calculé précédemment\n",
    "        if new_user[1] in top_degree:\n",
    "            id_article.append(new_user[0])\n",
    "    id_article = pd.DataFrame(id_article,columns=['id_article'])\n",
    "    \n",
    "    # Liste contenant le nombre d'utilisateurs \"importants\"\n",
    "    nb_important_users = id_article['id_article'].value_counts().values \n",
    "    # Liste contenant les id_article associés aux nombres précédents\n",
    "    id_relevant_article = id_article['id_article'].value_counts().index \n",
    "    \n",
    "    return nb_important_users,id_relevant_article "
   ]
  },
  {
   "cell_type": "markdown",
   "metadata": {},
   "source": [
    "#### <u>Récupération des fichiers"
   ]
  },
  {
   "cell_type": "code",
   "execution_count": 5,
   "metadata": {},
   "outputs": [],
   "source": [
    "# Récupération des données Xtrain et Xtest\n",
    "X_train_contents = create_lists('training').sort_index()\n",
    "X_test_contents = create_lists('test')\n",
    "X_train_ids, X_test_ids = X_train_contents.index.tolist(), X_test_contents.index.tolist()\n",
    "\n",
    "X_train_contents,X_test_contents = X_train_contents['content'].tolist(),X_test_contents['content'].tolist()\n",
    "# Récupération du Ytrain\n",
    "Y_train = get_Y_train().sort_index()"
   ]
  },
  {
   "cell_type": "markdown",
   "metadata": {},
   "source": [
    "# Partie texte"
   ]
  },
  {
   "cell_type": "markdown",
   "metadata": {},
   "source": [
    "Après avoir récupéré les données brutes, nous avons procédé à un nettoyage de celles-ci afin supprimer la ponctuation, les majuscules ainsi que les caractères spéciaux."
   ]
  },
  {
   "cell_type": "code",
   "execution_count": 6,
   "metadata": {},
   "outputs": [],
   "source": [
    "X_train = [sentense2cleanTokens(article) for article in X_train_contents]\n",
    "X_test = [sentense2cleanTokens(article) for article in X_test_contents]\n",
    "Y_train = list(Y_train['fake_news'])  "
   ]
  },
  {
   "cell_type": "code",
   "execution_count": 7,
   "metadata": {},
   "outputs": [
    {
     "data": {
      "text/plain": [
       "47"
      ]
     },
     "execution_count": 7,
     "metadata": {},
     "output_type": "execute_result"
    }
   ],
   "source": [
    "len(X_test)"
   ]
  },
  {
   "cell_type": "markdown",
   "metadata": {},
   "source": [
    "Une fois nos données nettoyées, nous avons créé la matrice tfidf associé à nos articles. \n",
    "<br>Nous avons essayé un grand nombre de combinaisons de paramètres afin de trouver ceux qui nous donnés la meilleure prédiction."
   ]
  },
  {
   "cell_type": "code",
   "execution_count": 8,
   "metadata": {},
   "outputs": [],
   "source": [
    "#Peut etre a remettre 10 en min_df !\n",
    "vec = TfidfVectorizer(max_df=0.7, min_df=0.1, max_features=100000, stop_words='english')\n",
    "#vec = CountVectorizer(max_df=0.7, min_df=10, max_features=100000, stop_words='english') \n",
    "X = vec.fit_transform(X_train + X_test)\n",
    "df = pd.DataFrame(X.toarray(), index=X_train_ids + X_test_ids, columns=vec.get_feature_names())"
   ]
  },
  {
   "cell_type": "markdown",
   "metadata": {},
   "source": [
    "Nous avons ensuite réfléchi à différentes features qui pourrait améliorer nos prédictions, nous avons alors pensé que la longueur de la plus grande phrase aurait peut être un impact significatif sur nos prédictions.\n",
    "<br> Il s'est en effet avéré que cette feature avait un réel impact sur notre modèle.\n",
    "<br> Pour créer cette feature, nous avons dû nous baser sur les données non nettoyées sinon on ne pouvait pas déterminer le début et la fin d'une phrase à cause de la suppression de la ponctuation.\n",
    "<br><br><u><b><i>Ajout de la taille de la plus grande phrase :</i></b></u>"
   ]
  },
  {
   "cell_type": "code",
   "execution_count": 9,
   "metadata": {},
   "outputs": [],
   "source": [
    "larger_sentence = []\n",
    "for article in X_train_contents:\n",
    "    max_sentence = 0\n",
    "    for sentence in article.split(\".\"):\n",
    "        if len(sentence) > max_sentence:\n",
    "            max_sentence = len(sentence)\n",
    "    larger_sentence.append(max_sentence)\n",
    "for article in X_test_contents:\n",
    "    max_sentence = 0\n",
    "    for sentence in article.split(\".\"):\n",
    "        if len(sentence) > max_sentence:\n",
    "            max_sentence = len(sentence)\n",
    "    larger_sentence.append(max_sentence)"
   ]
  },
  {
   "cell_type": "markdown",
   "metadata": {},
   "source": [
    "Nous avons ensuite ajouté le nombre de phrases que contenait chaque article car nous avons constaté \n",
    "que cet élément avait un impact important pour notre modèle.\n",
    "<br><br><u><b><i>Ajout du nombre de phrases :</i></b></u>"
   ]
  },
  {
   "cell_type": "code",
   "execution_count": 10,
   "metadata": {},
   "outputs": [],
   "source": [
    "number_sentence = []\n",
    "for article in X_train_contents:\n",
    "    number_sentence.append(len(article.split(\".\")))\n",
    "for article in X_test_contents:\n",
    "    number_sentence.append(len(article.split(\".\")))    "
   ]
  },
  {
   "cell_type": "markdown",
   "metadata": {},
   "source": [
    "Nous avons ensuite ajouté la longueur de chaque article qui avait une influence sur nos prédictions.\n",
    "<br>Pour cette feature, on se base sur les données nettoyées afin que les caractères spéciaux ne fausse pas \n",
    "nos résultats.\n",
    "<br><br><u><b><i>Ajout de la longueur des articles :</i></b></u>"
   ]
  },
  {
   "cell_type": "code",
   "execution_count": 11,
   "metadata": {},
   "outputs": [],
   "source": [
    "article_length = []\n",
    "for article in X_train:\n",
    "    article_length.append(len(article))\n",
    "for article in X_test:\n",
    "    article_length.append(len(article))"
   ]
  },
  {
   "cell_type": "markdown",
   "metadata": {},
   "source": [
    "Nous avons ensuite ajouté la longueur de la première phrase de l'article. Nous avons pensé que cela pouvait avoir une influence car cette phrase correspondait au titre ou bien à la phrase d'accroche de l'article.\n",
    "<br><br><u><b><i>Ajout de la longueur de la première phrase de l'article :</i></b></u>"
   ]
  },
  {
   "cell_type": "code",
   "execution_count": 12,
   "metadata": {},
   "outputs": [],
   "source": [
    "title_length = []\n",
    "for article in X_train_contents:\n",
    "    title_length.append(len(article.split('\\n')[0]))\n",
    "for article in X_test_contents:\n",
    "    title_length.append(len(article.split('\\n')[0]))"
   ]
  },
  {
   "cell_type": "markdown",
   "metadata": {},
   "source": [
    "Nous avons ensuite ajouté le nombre de mot présent dans chaque article.\n",
    "<br><br><u><b><i>Ajout du nombre de mots présent dans chaque article :</i></b></u>"
   ]
  },
  {
   "cell_type": "code",
   "execution_count": 13,
   "metadata": {},
   "outputs": [],
   "source": [
    "number_word = []\n",
    "for article in X_train_contents:\n",
    "    number_word.append(len(article.split(' ')))\n",
    "for article in X_test_contents:\n",
    "    number_word.append(len(article.split(' ')))"
   ]
  },
  {
   "cell_type": "markdown",
   "metadata": {},
   "source": [
    "Nous avons ensuite ajouté le nombre de mots commençant par une majuscule présents dans chaque article.\n",
    "<br><br><u><b><i>Ajout du nombre de mots commençant par une majuscule :</i></b></u>"
   ]
  },
  {
   "cell_type": "code",
   "execution_count": 14,
   "metadata": {},
   "outputs": [],
   "source": [
    "number_entity = []\n",
    "for article in X_train_contents:\n",
    "    number = 0\n",
    "    for word in article.split(' '):\n",
    "        if word[:1].isupper() or word.isupper():\n",
    "             number += 1\n",
    "    number_entity.append(number)\n",
    "for article in X_test_contents:\n",
    "    number = 0\n",
    "    for word in article.split(' '):\n",
    "        if word[:1].isupper() or word.isupper():\n",
    "             number += 1\n",
    "    number_entity.append(number)"
   ]
  },
  {
   "cell_type": "markdown",
   "metadata": {},
   "source": [
    "Nous avons ensuite ajouté la longueur de la dernière phrase de l'article. Nous avons pensé que cela pouvait avoir une influence car cette phrase est tout aussi importante que la première, elle sert de conclusion à l'article\n",
    "<br><br><u><b><i>Ajout de la longueur de la dernière phrase de l'article :</i></b></u>"
   ]
  },
  {
   "cell_type": "code",
   "execution_count": 15,
   "metadata": {},
   "outputs": [],
   "source": [
    "last_sentence_length = []\n",
    "for article in X_train_contents:\n",
    "    last_sentence_length.append(len(article.split('\\n')[-1]))\n",
    "for article in X_test_contents:\n",
    "    last_sentence_length.append(len(article.split('\\n')[-1]))"
   ]
  },
  {
   "cell_type": "markdown",
   "metadata": {},
   "source": [
    "### On ajoute toutes les features calculées précédemment dans notre DataFrame"
   ]
  },
  {
   "cell_type": "code",
   "execution_count": 16,
   "metadata": {},
   "outputs": [],
   "source": [
    "df['larger_sentence']= larger_sentence\n",
    "df['number_sentence'] = number_sentence\n",
    "df['article_length'] = article_length\n",
    "df['title_length'] = title_length\n",
    "df['number_word'] = number_word\n",
    "df['number_entity'] = number_entity\n",
    "df['last_sentence_length'] = last_sentence_length"
   ]
  },
  {
   "cell_type": "markdown",
   "metadata": {},
   "source": [
    "<u><b>Ce qu'on a essayé mais qui n'a pas été utilisé dans le modèle final</b></u>"
   ]
  },
  {
   "cell_type": "code",
   "execution_count": 17,
   "metadata": {},
   "outputs": [
    {
     "data": {
      "text/plain": [
       "\"from nltk import ne_chunk, pos_tag, word_tokenize\\nnb_nnp = []\\nfor article in X_train:\\n    cpt = 0\\n    for i in pos_tag(word_tokenize(article)):\\n        if i[1] == 'NNP':\\n            cpt += 1\\n    nb_nnp.append(cpt)\\nfor article in X_test:\\n    cpt = 0\\n    for i in pos_tag(word_tokenize(article)):\\n        if i[1] == 'NNP':\\n            cpt += 1\\n    nb_nnp.append(cpt)\\ndf['nb_nnp'] = nb_nnp\""
      ]
     },
     "execution_count": 17,
     "metadata": {},
     "output_type": "execute_result"
    }
   ],
   "source": [
    "\"\"\"from nltk import ne_chunk, pos_tag, word_tokenize\n",
    "nb_nnp = []\n",
    "for article in X_train:\n",
    "    cpt = 0\n",
    "    for i in pos_tag(word_tokenize(article)):\n",
    "        if i[1] == 'NNP':\n",
    "            cpt += 1\n",
    "    nb_nnp.append(cpt)\n",
    "for article in X_test:\n",
    "    cpt = 0\n",
    "    for i in pos_tag(word_tokenize(article)):\n",
    "        if i[1] == 'NNP':\n",
    "            cpt += 1\n",
    "    nb_nnp.append(cpt)\n",
    "df['nb_nnp'] = nb_nnp\"\"\""
   ]
  },
  {
   "cell_type": "markdown",
   "metadata": {},
   "source": [
    "On a essayé de compter le nombre de type de mots, par exemple le nombre de noms communs dans chaque article grâce à la librairie NLTK. On a essayé avec plusieurs catégories de mots mais cela s'est montré ineficace pour nos prédictions. Nous avons donc décidé de ne pas l'implémenter afin de ne pas surcharger note code avec des éléments inutiles.µ"
   ]
  },
  {
   "cell_type": "markdown",
   "metadata": {},
   "source": [
    "# Partie Réseau"
   ]
  },
  {
   "cell_type": "markdown",
   "metadata": {},
   "source": [
    "<b><u>Utilisation des fichiers newsUser.txt et UserUser.txt</u></b>"
   ]
  },
  {
   "cell_type": "code",
   "execution_count": 18,
   "metadata": {},
   "outputs": [],
   "source": [
    "newsUser = open('../data/newsUser.txt','r').readlines()\n",
    "UserUser = open('../data/UserUser.txt','r').readlines()"
   ]
  },
  {
   "cell_type": "code",
   "execution_count": 19,
   "metadata": {},
   "outputs": [],
   "source": [
    "news_users = pd.DataFrame([line.split() for line in newsUser], columns=['id_article','id_user','number_propagation'])\n",
    "news_users['number_propagation'] = [int(propagation) for propagation in news_users['number_propagation']]"
   ]
  },
  {
   "cell_type": "code",
   "execution_count": 20,
   "metadata": {},
   "outputs": [],
   "source": [
    "User_User = pd.DataFrame([line.split() for line in UserUser],columns=['follower','followed'])\n",
    "id_followed = User_User['followed'].unique()\n",
    "id_follower = User_User['follower'].unique()"
   ]
  },
  {
   "cell_type": "markdown",
   "metadata": {},
   "source": [
    "La première feature à laquelle nous avons pensé après avoir regardé le fichier newsUser.txt était le nombre de propagation de chaque article. Nous avons donc fait une somme de toutes les propagations pour chaque article.\n",
    "<br><br><u><b><i>Ajout du nombre de propagations de l'article :</i></b></u>"
   ]
  },
  {
   "cell_type": "code",
   "execution_count": 21,
   "metadata": {},
   "outputs": [],
   "source": [
    "propagation_number = []\n",
    "for id_article in df.index:\n",
    "    propagation_number.append( \\\n",
    "    news_users[['id_article', \\\n",
    "    'number_propagation']].groupby(['id_article']).sum()['number_propagation'].loc[str(id_article)])"
   ]
  },
  {
   "cell_type": "markdown",
   "metadata": {},
   "source": [
    "<u><b><i>Création des réseaux utilisateurs :</i></b></u></b>\n",
    "\n",
    "Nous avons ensuite fait le choix de créer un réseau d'utilisateurs dans le but d'essayer d'améliorer nos prédictions.\n",
    "C'est un graphique dirigé, de la forme utilisateur est suivi par tels utilisateurs.\n",
    "\n",
    "Nous nous basons sur une centralité sur le degré. Sur un graphe dirigé elle permet d'identifier le nombre de voisins divisé par tous les voisins possibles qu'il pourrait avoir. Nous allons nous servir de la fonction degree_centrality afin de récupérer ces valeurs.\n",
    "Ces valeurs vont nous permettre de déterminer les 5000 utilisateurs les plus suivis, feature qu'on essaiera d'ajouter à notre dataframe."
   ]
  },
  {
   "cell_type": "markdown",
   "metadata": {},
   "source": [
    "<i>On va dans un premier temps déterminer les 5000 utilisateurs les plus suivis (important_followed) dans le but de compter leur nombre de ces important_followed pour chaque partage d'articles. Nous voulons en fait étudier les articles les plus partagés par cette communauté d'important_follower."
   ]
  },
  {
   "cell_type": "code",
   "execution_count": 22,
   "metadata": {},
   "outputs": [],
   "source": [
    "nb_important_users_followed,id_relevant_article_followed = get_network_features(id_followed,User_User,news_users)"
   ]
  },
  {
   "cell_type": "markdown",
   "metadata": {},
   "source": [
    "<i> Ensuite on cherche dans les 5000 utilisateurs (important_follower) qui suivent le plus  d'autres utlisateurs. Le but étant d'identifier les articles les plus partagés par ce groupe d'important_follower."
   ]
  },
  {
   "cell_type": "code",
   "execution_count": 23,
   "metadata": {},
   "outputs": [],
   "source": [
    "nb_important_users_follower,id_relevant_article_follower = get_network_features(id_follower,User_User,news_users)"
   ]
  },
  {
   "cell_type": "markdown",
   "metadata": {},
   "source": [
    "<h5><u> On ajoute nos features crée à partir des réseaux utilisateurs :"
   ]
  },
  {
   "cell_type": "code",
   "execution_count": 24,
   "metadata": {},
   "outputs": [
    {
     "data": {
      "application/vnd.jupyter.widget-view+json": {
       "model_id": "f2fc2a3cf79d4099bd9c785abd3edcf6",
       "version_major": 2,
       "version_minor": 0
      },
      "text/plain": [
       "HBox(children=(IntProgress(value=0, max=170), HTML(value='')))"
      ]
     },
     "metadata": {},
     "output_type": "display_data"
    },
    {
     "name": "stdout",
     "output_type": "stream",
     "text": [
      "\n"
     ]
    },
    {
     "data": {
      "application/vnd.jupyter.widget-view+json": {
       "model_id": "97fbb13c3f974dca9075d607921a2e69",
       "version_major": 2,
       "version_minor": 0
      },
      "text/plain": [
       "HBox(children=(IntProgress(value=0, max=170), HTML(value='')))"
      ]
     },
     "metadata": {},
     "output_type": "display_data"
    },
    {
     "name": "stdout",
     "output_type": "stream",
     "text": [
      "\n"
     ]
    }
   ],
   "source": [
    "df['number_important_user_followed'] = 0\n",
    "for i in tqdm(range(len(id_relevant_article_followed))):\n",
    "    df['number_important_user_followed'].loc[int(id_relevant_article_followed[i])] \\\n",
    "    = nb_important_users_followed[i]\n",
    "    \n",
    "df['propagation_number'] = propagation_number\n",
    "\n",
    "df['number_important_user_follower'] = 0\n",
    "for i in tqdm(range(len(id_relevant_article_follower))):\n",
    "    df['number_important_user_follower'].loc[int(id_relevant_article_follower[i])] = nb_important_users_follower[i]"
   ]
  },
  {
   "cell_type": "markdown",
   "metadata": {},
   "source": [
    "<u><b>Ce qu'on a essayé mais qui n'a pas été utilisé dans le modèle final</b></u>"
   ]
  },
  {
   "cell_type": "code",
   "execution_count": 25,
   "metadata": {},
   "outputs": [],
   "source": [
    "## blablabla"
   ]
  },
  {
   "cell_type": "markdown",
   "metadata": {},
   "source": [
    "# Partie Machine Learning"
   ]
  },
  {
   "cell_type": "markdown",
   "metadata": {},
   "source": [
    "##### Séparation de notre dataframe en deux df : train / test"
   ]
  },
  {
   "cell_type": "code",
   "execution_count": 26,
   "metadata": {},
   "outputs": [],
   "source": [
    "df_train = pd.DataFrame(df.loc[X_train_ids])\n",
    "df_test = pd.DataFrame(df.loc[X_test_ids])"
   ]
  },
  {
   "cell_type": "markdown",
   "metadata": {},
   "source": [
    "Afin d'essayer de déterminer les features qui contribuaient le plus à notre modèle, nous avons créé un graphique nous montrant les 30 features qui contibuaient le plus dans notre modèle. On déduit bien de ce graphique que toutes les features que nous avons décidé d'ajouter sont présentes dans les 30 plus importants. Nous avons donc bien choisi nos features.\n",
    "<br>Concernant le choix de l'algorithme de classifieur à utiliser, nous avon fait énormément de tests. Nous avons testé tous les algorithmes et le plus robuste avec nos données a été le RandomForestClassifier(), c'est donc celui-ci que nous utilisons pour faire nos prédictions. Nous avons essayer plusieurs combinaisons de paramètres afin de trouver ceux que l'on trouvait \"optimaux\"."
   ]
  },
  {
   "cell_type": "code",
   "execution_count": 27,
   "metadata": {},
   "outputs": [
    {
     "data": {
      "image/png": "[encoded data removed]",
      "text/plain": [
       "<Figure size 432x288 with 1 Axes>"
      ]
     },
     "metadata": {
      "needs_background": "light"
     },
     "output_type": "display_data"
    }
   ],
   "source": [
    "#### Contribution de nos features\n",
    "model = RandomForestClassifier(n_estimators= 1400, min_samples_split= 2, min_samples_leaf= 1, max_features='auto', max_depth= 40, bootstrap= False)\n",
    "model.fit(df_train, Y_train)\n",
    "feat_importances = pd.Series(model.feature_importances_, index=df_train.columns)\n",
    "feat_importances.nlargest(30).plot(kind='barh')\n",
    "plt.show()"
   ]
  },
  {
   "cell_type": "code",
   "execution_count": 28,
   "metadata": {},
   "outputs": [
    {
     "name": "stdout",
     "output_type": "stream",
     "text": [
      "0.8722807017543861\n"
     ]
    },
    {
     "data": {
      "text/plain": [
       "RandomForestClassifier(bootstrap=False, class_weight=None, criterion='gini',\n",
       "            max_depth=40, max_features='auto', max_leaf_nodes=None,\n",
       "            min_impurity_decrease=0.0, min_impurity_split=None,\n",
       "            min_samples_leaf=1, min_samples_split=2,\n",
       "            min_weight_fraction_leaf=0.0, n_estimators=1400, n_jobs=None,\n",
       "            oob_score=False, random_state=None, verbose=0,\n",
       "            warm_start=False)"
      ]
     },
     "execution_count": 28,
     "metadata": {},
     "output_type": "execute_result"
    }
   ],
   "source": [
    "model = RandomForestClassifier(n_estimators= 1400, min_samples_split= 2, min_samples_leaf= 1, max_features='auto', max_depth= 40, bootstrap= False)\n",
    "pred = np.mean(cross_val_score(model, df_train, Y_train, cv=10))\n",
    "print(pred)\n",
    "clf_gbc = RandomForestClassifier(n_estimators= 1400, min_samples_split= 2, min_samples_leaf= 1, max_features='auto', max_depth= 40, bootstrap= False)\n",
    "clf_gbc.fit(df_train, Y_train)"
   ]
  },
  {
   "cell_type": "markdown",
   "metadata": {},
   "source": [
    "# Pour générer le fichier résultat"
   ]
  },
  {
   "cell_type": "code",
   "execution_count": 29,
   "metadata": {},
   "outputs": [],
   "source": [
    "#Prédiction avec notre modèle sur les données tests\n",
    "pred_test = clf_gbc.predict(df_test)"
   ]
  },
  {
   "cell_type": "code",
   "execution_count": 30,
   "metadata": {},
   "outputs": [],
   "source": [
    "from datetime import datetime\n",
    "#Création du fichier txt\n",
    "fichier = open(\"../data/submissions/pred_test_\"+str(datetime.now()) +\".txt\", \"a\")\n",
    "#En tête du fichier\n",
    "fichier.write(\"doc,class\")\n",
    "#On parcourt notre liste et on inscrit les prédictions au bon format\n",
    "for i in range(len(pred_test)):\n",
    "    fichier.write(\"\\n\" + str(X_test_ids[i]) + ',' + str(pred_test[i]))\n",
    "fichier.close()"
   ]
  },
  {
   "cell_type": "markdown",
   "metadata": {},
   "source": [
    "# <center>FIN</center>"
   ]
  }
 ],
 "metadata": {
  "kernelspec": {
   "display_name": "Python 3",
   "language": "python",
   "name": "python3"
  },
  "language_info": {
   "codemirror_mode": {
    "name": "ipython",
    "version": 3
   },
   "file_extension": ".py",
   "mimetype": "text/x-python",
   "name": "python",
   "nbconvert_exporter": "python",
   "pygments_lexer": "ipython3",
   "version": "3.7.1"
  }
 },
 "nbformat": 4,
 "nbformat_minor": 2
}
